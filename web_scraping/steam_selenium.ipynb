{
 "cells": [
  {
   "cell_type": "markdown",
   "metadata": {},
   "source": [
    "# Navigating using selenium"
   ]
  },
  {
   "cell_type": "code",
   "execution_count": 50,
   "metadata": {},
   "outputs": [],
   "source": [
    "from selenium import webdriver\n",
    "from selenium.webdriver.common.keys import Keys\n",
    "from selenium.webdriver.common.by import By\n",
    "from selenium.webdriver.chrome.service import Service\n",
    "from webdriver_manager.chrome import ChromeDriverManager\n",
    "from selenium.webdriver.common.action_chains import ActionChains"
   ]
  },
  {
   "cell_type": "code",
   "execution_count": 52,
   "metadata": {},
   "outputs": [],
   "source": [
    "url = \"https://store.steampowered.com/search/?term=the crew 2\""
   ]
  },
  {
   "cell_type": "code",
   "execution_count": 53,
   "metadata": {},
   "outputs": [],
   "source": [
    "driver = webdriver.Chrome(service=Service(ChromeDriverManager().install()))"
   ]
  },
  {
   "cell_type": "code",
   "execution_count": 78,
   "metadata": {},
   "outputs": [],
   "source": [
    "driver.get(url)"
   ]
  },
  {
   "cell_type": "code",
   "execution_count": 79,
   "metadata": {},
   "outputs": [],
   "source": [
    "game = driver.find_element(by = By.CLASS_NAME, value = \"title\")"
   ]
  },
  {
   "cell_type": "code",
   "execution_count": 80,
   "metadata": {},
   "outputs": [],
   "source": [
    "ActionChains(driver).move_to_element(game).click().perform()"
   ]
  },
  {
   "cell_type": "code",
   "execution_count": 81,
   "metadata": {},
   "outputs": [],
   "source": [
    "url = \"https://steamcommunity.com/app/646910/reviews/\"\n",
    "driver.get(url)"
   ]
  },
  {
   "cell_type": "code",
   "execution_count": 91,
   "metadata": {},
   "outputs": [],
   "source": [
    "end_page = driver.find_element(by = By.CLASS_NAME, value = \"apphub_NoMoreContentText1\")"
   ]
  },
  {
   "cell_type": "code",
   "execution_count": 92,
   "metadata": {},
   "outputs": [
    {
     "ename": "JavascriptException",
     "evalue": "Message: javascript error: {\"status\":60,\"value\":\"[object HTMLDivElement] has no size and location\"}\n  (Session info: chrome=131.0.6778.205)\nStacktrace:\n\tGetHandleVerifier [0x008DEC13+23731]\n\t(No symbol) [0x0086C394]\n\t(No symbol) [0x0074BE63]\n\t(No symbol) [0x00751971]\n\t(No symbol) [0x0075388A]\n\t(No symbol) [0x00753907]\n\t(No symbol) [0x0079540E]\n\t(No symbol) [0x007949A3]\n\t(No symbol) [0x007D25BC]\n\t(No symbol) [0x007B1E5C]\n\t(No symbol) [0x007CB46E]\n\t(No symbol) [0x007B1BF6]\n\t(No symbol) [0x00783F35]\n\t(No symbol) [0x00784EBD]\n\tGetHandleVerifier [0x00BBF0D3+3039603]\n\tGetHandleVerifier [0x00BD2DEA+3120778]\n\tGetHandleVerifier [0x00BCB592+3089970]\n\tGetHandleVerifier [0x009743B0+635984]\n\t(No symbol) [0x00874DCD]\n\t(No symbol) [0x00872068]\n\t(No symbol) [0x00872205]\n\t(No symbol) [0x00864FD0]\n\tBaseThreadInitThunk [0x75DA5D49+25]\n\tRtlInitializeExceptionChain [0x773CCEBB+107]\n\tRtlGetAppContainerNamedObjectPath [0x773CCE41+561]\n",
     "output_type": "error",
     "traceback": [
      "\u001b[1;31m---------------------------------------------------------------------------\u001b[0m",
      "\u001b[1;31mJavascriptException\u001b[0m                       Traceback (most recent call last)",
      "Cell \u001b[1;32mIn[92], line 1\u001b[0m\n\u001b[1;32m----> 1\u001b[0m \u001b[43mActionChains\u001b[49m\u001b[43m(\u001b[49m\u001b[43mdriver\u001b[49m\u001b[43m)\u001b[49m\u001b[38;5;241;43m.\u001b[39;49m\u001b[43mscroll_to_element\u001b[49m\u001b[43m(\u001b[49m\u001b[43mend_page\u001b[49m\u001b[43m)\u001b[49m\u001b[38;5;241;43m.\u001b[39;49m\u001b[43mperform\u001b[49m\u001b[43m(\u001b[49m\u001b[43m)\u001b[49m\n",
      "File \u001b[1;32mc:\\Users\\natha\\Documents\\Git\\Sentiment-analysis-project\\env\\Lib\\site-packages\\selenium\\webdriver\\common\\action_chains.py:94\u001b[0m, in \u001b[0;36mActionChains.perform\u001b[1;34m(self)\u001b[0m\n\u001b[0;32m     92\u001b[0m \u001b[38;5;28;01mdef\u001b[39;00m \u001b[38;5;21mperform\u001b[39m(\u001b[38;5;28mself\u001b[39m) \u001b[38;5;241m-\u001b[39m\u001b[38;5;241m>\u001b[39m \u001b[38;5;28;01mNone\u001b[39;00m:\n\u001b[0;32m     93\u001b[0m \u001b[38;5;250m    \u001b[39m\u001b[38;5;124;03m\"\"\"Performs all stored actions.\"\"\"\u001b[39;00m\n\u001b[1;32m---> 94\u001b[0m     \u001b[38;5;28;43mself\u001b[39;49m\u001b[38;5;241;43m.\u001b[39;49m\u001b[43mw3c_actions\u001b[49m\u001b[38;5;241;43m.\u001b[39;49m\u001b[43mperform\u001b[49m\u001b[43m(\u001b[49m\u001b[43m)\u001b[49m\n",
      "File \u001b[1;32mc:\\Users\\natha\\Documents\\Git\\Sentiment-analysis-project\\env\\Lib\\site-packages\\selenium\\webdriver\\common\\actions\\action_builder.py:96\u001b[0m, in \u001b[0;36mActionBuilder.perform\u001b[1;34m(self)\u001b[0m\n\u001b[0;32m     94\u001b[0m         enc[\u001b[38;5;124m\"\u001b[39m\u001b[38;5;124mactions\u001b[39m\u001b[38;5;124m\"\u001b[39m]\u001b[38;5;241m.\u001b[39mappend(encoded)\n\u001b[0;32m     95\u001b[0m         device\u001b[38;5;241m.\u001b[39mactions \u001b[38;5;241m=\u001b[39m []\n\u001b[1;32m---> 96\u001b[0m \u001b[38;5;28;43mself\u001b[39;49m\u001b[38;5;241;43m.\u001b[39;49m\u001b[43mdriver\u001b[49m\u001b[38;5;241;43m.\u001b[39;49m\u001b[43mexecute\u001b[49m\u001b[43m(\u001b[49m\u001b[43mCommand\u001b[49m\u001b[38;5;241;43m.\u001b[39;49m\u001b[43mW3C_ACTIONS\u001b[49m\u001b[43m,\u001b[49m\u001b[43m \u001b[49m\u001b[43menc\u001b[49m\u001b[43m)\u001b[49m\n",
      "File \u001b[1;32mc:\\Users\\natha\\Documents\\Git\\Sentiment-analysis-project\\env\\Lib\\site-packages\\selenium\\webdriver\\remote\\webdriver.py:384\u001b[0m, in \u001b[0;36mWebDriver.execute\u001b[1;34m(self, driver_command, params)\u001b[0m\n\u001b[0;32m    382\u001b[0m response \u001b[38;5;241m=\u001b[39m \u001b[38;5;28mself\u001b[39m\u001b[38;5;241m.\u001b[39mcommand_executor\u001b[38;5;241m.\u001b[39mexecute(driver_command, params)\n\u001b[0;32m    383\u001b[0m \u001b[38;5;28;01mif\u001b[39;00m response:\n\u001b[1;32m--> 384\u001b[0m     \u001b[38;5;28;43mself\u001b[39;49m\u001b[38;5;241;43m.\u001b[39;49m\u001b[43merror_handler\u001b[49m\u001b[38;5;241;43m.\u001b[39;49m\u001b[43mcheck_response\u001b[49m\u001b[43m(\u001b[49m\u001b[43mresponse\u001b[49m\u001b[43m)\u001b[49m\n\u001b[0;32m    385\u001b[0m     response[\u001b[38;5;124m\"\u001b[39m\u001b[38;5;124mvalue\u001b[39m\u001b[38;5;124m\"\u001b[39m] \u001b[38;5;241m=\u001b[39m \u001b[38;5;28mself\u001b[39m\u001b[38;5;241m.\u001b[39m_unwrap_value(response\u001b[38;5;241m.\u001b[39mget(\u001b[38;5;124m\"\u001b[39m\u001b[38;5;124mvalue\u001b[39m\u001b[38;5;124m\"\u001b[39m, \u001b[38;5;28;01mNone\u001b[39;00m))\n\u001b[0;32m    386\u001b[0m     \u001b[38;5;28;01mreturn\u001b[39;00m response\n",
      "File \u001b[1;32mc:\\Users\\natha\\Documents\\Git\\Sentiment-analysis-project\\env\\Lib\\site-packages\\selenium\\webdriver\\remote\\errorhandler.py:232\u001b[0m, in \u001b[0;36mErrorHandler.check_response\u001b[1;34m(self, response)\u001b[0m\n\u001b[0;32m    230\u001b[0m         alert_text \u001b[38;5;241m=\u001b[39m value[\u001b[38;5;124m\"\u001b[39m\u001b[38;5;124malert\u001b[39m\u001b[38;5;124m\"\u001b[39m]\u001b[38;5;241m.\u001b[39mget(\u001b[38;5;124m\"\u001b[39m\u001b[38;5;124mtext\u001b[39m\u001b[38;5;124m\"\u001b[39m)\n\u001b[0;32m    231\u001b[0m     \u001b[38;5;28;01mraise\u001b[39;00m exception_class(message, screen, stacktrace, alert_text)  \u001b[38;5;66;03m# type: ignore[call-arg]  # mypy is not smart enough here\u001b[39;00m\n\u001b[1;32m--> 232\u001b[0m \u001b[38;5;28;01mraise\u001b[39;00m exception_class(message, screen, stacktrace)\n",
      "\u001b[1;31mJavascriptException\u001b[0m: Message: javascript error: {\"status\":60,\"value\":\"[object HTMLDivElement] has no size and location\"}\n  (Session info: chrome=131.0.6778.205)\nStacktrace:\n\tGetHandleVerifier [0x008DEC13+23731]\n\t(No symbol) [0x0086C394]\n\t(No symbol) [0x0074BE63]\n\t(No symbol) [0x00751971]\n\t(No symbol) [0x0075388A]\n\t(No symbol) [0x00753907]\n\t(No symbol) [0x0079540E]\n\t(No symbol) [0x007949A3]\n\t(No symbol) [0x007D25BC]\n\t(No symbol) [0x007B1E5C]\n\t(No symbol) [0x007CB46E]\n\t(No symbol) [0x007B1BF6]\n\t(No symbol) [0x00783F35]\n\t(No symbol) [0x00784EBD]\n\tGetHandleVerifier [0x00BBF0D3+3039603]\n\tGetHandleVerifier [0x00BD2DEA+3120778]\n\tGetHandleVerifier [0x00BCB592+3089970]\n\tGetHandleVerifier [0x009743B0+635984]\n\t(No symbol) [0x00874DCD]\n\t(No symbol) [0x00872068]\n\t(No symbol) [0x00872205]\n\t(No symbol) [0x00864FD0]\n\tBaseThreadInitThunk [0x75DA5D49+25]\n\tRtlInitializeExceptionChain [0x773CCEBB+107]\n\tRtlGetAppContainerNamedObjectPath [0x773CCE41+561]\n"
     ]
    }
   ],
   "source": [
    "ActionChains(driver).scroll_to_element(end_page).perform()"
   ]
  },
  {
   "cell_type": "code",
   "execution_count": null,
   "metadata": {},
   "outputs": [],
   "source": []
  },
  {
   "cell_type": "markdown",
   "metadata": {},
   "source": [
    "# Scrapping using Beatiful Soup"
   ]
  },
  {
   "cell_type": "code",
   "execution_count": 36,
   "metadata": {},
   "outputs": [],
   "source": [
    "import requests\n",
    "from bs4 import BeautifulSoup"
   ]
  },
  {
   "cell_type": "code",
   "execution_count": 38,
   "metadata": {},
   "outputs": [],
   "source": [
    "response = requests.get(url)"
   ]
  },
  {
   "cell_type": "code",
   "execution_count": 39,
   "metadata": {},
   "outputs": [],
   "source": [
    "soup = BeautifulSoup(response.text, 'lxml')"
   ]
  },
  {
   "cell_type": "code",
   "execution_count": 70,
   "metadata": {},
   "outputs": [
    {
     "name": "stdout",
     "output_type": "stream",
     "text": [
      "646910\n",
      "889890\n",
      "1075340\n",
      "2183882\n",
      "3251420\n"
     ]
    }
   ],
   "source": [
    "import re\n",
    "for i in soup.find_all(class_ = \"search_result_row\")[:5] :\n",
    "    print(i.get(\"data-ds-appid\"))"
   ]
  },
  {
   "cell_type": "code",
   "execution_count": 72,
   "metadata": {},
   "outputs": [
    {
     "data": {
      "text/plain": [
       "'1846380'"
      ]
     },
     "execution_count": 72,
     "metadata": {},
     "output_type": "execute_result"
    }
   ],
   "source": [
    "soup.find_all(class_ = \"search_result_row\")[10].get(\"data-ds-appid\")"
   ]
  },
  {
   "cell_type": "code",
   "execution_count": 74,
   "metadata": {},
   "outputs": [
    {
     "name": "stdout",
     "output_type": "stream",
     "text": [
      "The Crew™ 2\n",
      "The Crew 2 - Season Pass\n",
      "The Crew 2 Demo\n",
      "The Crew 2 - Mazda RX8 Starter Pack\n",
      "The Crew Motorfest | Year 2 Pass\n",
      "The Crew 2 - Porsche Cayman GT4 2016 Starter Pack\n",
      "RimWorld\n",
      "The Crew Motorfest\n",
      "DCS World Steam Edition\n",
      "iRacing\n",
      "Need for Speed™ Unbound\n",
      "Train Simulator Classic 2024\n",
      "Unrailed 2: Back on Track\n",
      "PAYDAY 2\n",
      "The Outer Worlds\n",
      "Barotrauma\n",
      "Squad 44\n",
      "The Escapists 2\n",
      "Total War: WARHAMMER II - Curse of the Vampire Coast\n",
      "UBOAT\n",
      "DCS: F/A-18C\n",
      "MotoGP™24\n",
      "FINAL FANTASY IX\n",
      "Far Cry 3\n",
      "FTL: Faster Than Light\n",
      "The Dark Pictures Anthology: The Devil in Me\n",
      "Total War: WARHAMMER II - The Prophet & The Warlock\n",
      "Arma 3 Apex\n",
      "The Outer Worlds 2\n",
      "Lost Eidolons: Veil of the Witch\n",
      "Return to Monkey Island\n",
      "Escape Simulator: Steampunk DLC\n",
      "Total War: WARHAMMER II - The Warden & The Paunch\n",
      "The Dark Pictures Anthology: House of Ashes\n",
      "Easy Red 2\n",
      "Cobalt Core\n",
      "The Outer Worlds: Spacer's Choice Edition\n",
      "Starbound\n",
      "Risk of Rain Returns\n",
      "The Expanse: A Telltale Series\n",
      "PGA TOUR 2K23\n",
      "Space Haven\n",
      "Drill Core\n",
      "DCS: F-14A/B Tomcat\n",
      "Torque Drift 2\n",
      "Total War: WARHAMMER - Chaos Warriors\n",
      "Tom Clancy’s Splinter Cell Blacklist\n",
      "DCS: AH-64D\n",
      "Command: Modern Operations\n",
      "Sprocket\n"
     ]
    }
   ],
   "source": [
    "for i in soup.find_all(\"span\", class_ = \"title\") :\n",
    "    print(i.text)"
   ]
  },
  {
   "cell_type": "code",
   "execution_count": 77,
   "metadata": {},
   "outputs": [
    {
     "data": {
      "text/plain": [
       "[<span class=\"title\">The Crew™ 2</span>,\n",
       " <span class=\"title\">The Crew 2 - Season Pass</span>,\n",
       " <span class=\"title\">The Crew 2 Demo</span>,\n",
       " <span class=\"title\">The Crew 2 - Mazda RX8 Starter Pack</span>,\n",
       " <span class=\"title\">The Crew Motorfest | Year 2 Pass</span>,\n",
       " <span class=\"title\">The Crew 2 - Porsche Cayman GT4 2016 Starter Pack</span>,\n",
       " <span class=\"title\">RimWorld</span>,\n",
       " <span class=\"title\">The Crew Motorfest</span>,\n",
       " <span class=\"title\">DCS World Steam Edition</span>,\n",
       " <span class=\"title\">iRacing</span>,\n",
       " <span class=\"title\">Need for Speed™ Unbound</span>,\n",
       " <span class=\"title\">Train Simulator Classic 2024</span>,\n",
       " <span class=\"title\">Unrailed 2: Back on Track</span>,\n",
       " <span class=\"title\">PAYDAY 2</span>,\n",
       " <span class=\"title\">The Outer Worlds</span>,\n",
       " <span class=\"title\">Barotrauma</span>,\n",
       " <span class=\"title\">Squad 44</span>,\n",
       " <span class=\"title\">The Escapists 2</span>,\n",
       " <span class=\"title\">Total War: WARHAMMER II - Curse of the Vampire Coast</span>,\n",
       " <span class=\"title\">UBOAT</span>,\n",
       " <span class=\"title\">DCS: F/A-18C</span>,\n",
       " <span class=\"title\">MotoGP™24</span>,\n",
       " <span class=\"title\">FINAL FANTASY IX</span>,\n",
       " <span class=\"title\">Far Cry 3</span>,\n",
       " <span class=\"title\">FTL: Faster Than Light</span>,\n",
       " <span class=\"title\">The Dark Pictures Anthology: The Devil in Me</span>,\n",
       " <span class=\"title\">Total War: WARHAMMER II - The Prophet &amp; The Warlock</span>,\n",
       " <span class=\"title\">Arma 3 Apex</span>,\n",
       " <span class=\"title\">The Outer Worlds 2</span>,\n",
       " <span class=\"title\">Lost Eidolons: Veil of the Witch</span>,\n",
       " <span class=\"title\">Return to Monkey Island</span>,\n",
       " <span class=\"title\">Escape Simulator: Steampunk DLC</span>,\n",
       " <span class=\"title\">Total War: WARHAMMER II - The Warden &amp; The Paunch</span>,\n",
       " <span class=\"title\">The Dark Pictures Anthology: House of Ashes</span>,\n",
       " <span class=\"title\">Easy Red 2</span>,\n",
       " <span class=\"title\">Cobalt Core</span>,\n",
       " <span class=\"title\">The Outer Worlds: Spacer's Choice Edition</span>,\n",
       " <span class=\"title\">Starbound</span>,\n",
       " <span class=\"title\">Risk of Rain Returns</span>,\n",
       " <span class=\"title\">The Expanse: A Telltale Series</span>,\n",
       " <span class=\"title\">PGA TOUR 2K23</span>,\n",
       " <span class=\"title\">Space Haven</span>,\n",
       " <span class=\"title\">Drill Core</span>,\n",
       " <span class=\"title\">DCS: F-14A/B Tomcat</span>,\n",
       " <span class=\"title\">Torque Drift 2</span>,\n",
       " <span class=\"title\">Total War: WARHAMMER - Chaos Warriors</span>,\n",
       " <span class=\"title\">Tom Clancy’s Splinter Cell Blacklist</span>,\n",
       " <span class=\"title\">DCS: AH-64D</span>,\n",
       " <span class=\"title\">Command: Modern Operations</span>,\n",
       " <span class=\"title\">Sprocket</span>]"
      ]
     },
     "execution_count": 77,
     "metadata": {},
     "output_type": "execute_result"
    }
   ],
   "source": [
    "soup.find_all(\"span\", class_ = \"title\")"
   ]
  },
  {
   "cell_type": "code",
   "execution_count": null,
   "metadata": {},
   "outputs": [],
   "source": []
  },
  {
   "cell_type": "code",
   "execution_count": null,
   "metadata": {},
   "outputs": [],
   "source": []
  },
  {
   "cell_type": "code",
   "execution_count": null,
   "metadata": {},
   "outputs": [],
   "source": []
  },
  {
   "cell_type": "code",
   "execution_count": null,
   "metadata": {},
   "outputs": [],
   "source": []
  },
  {
   "cell_type": "code",
   "execution_count": null,
   "metadata": {},
   "outputs": [],
   "source": []
  },
  {
   "cell_type": "code",
   "execution_count": null,
   "metadata": {},
   "outputs": [],
   "source": []
  }
 ],
 "metadata": {
  "kernelspec": {
   "display_name": "env",
   "language": "python",
   "name": "python3"
  },
  "language_info": {
   "codemirror_mode": {
    "name": "ipython",
    "version": 3
   },
   "file_extension": ".py",
   "mimetype": "text/x-python",
   "name": "python",
   "nbconvert_exporter": "python",
   "pygments_lexer": "ipython3",
   "version": "3.12.6"
  }
 },
 "nbformat": 4,
 "nbformat_minor": 2
}
