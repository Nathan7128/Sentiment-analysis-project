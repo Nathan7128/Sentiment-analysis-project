{
 "cells": [
  {
   "cell_type": "markdown",
   "metadata": {
    "vscode": {
     "languageId": "plaintext"
    }
   },
   "source": [
    "https://oxylabs.io/blog/how-to-scrape-amazon-product-data"
   ]
  },
  {
   "cell_type": "code",
   "execution_count": 8,
   "metadata": {},
   "outputs": [],
   "source": [
    "# Import the required libraries\n",
    "\n",
    "import requests\n",
    "from bs4 import BeautifulSoup"
   ]
  },
  {
   "cell_type": "code",
   "execution_count": 5,
   "metadata": {},
   "outputs": [],
   "source": [
    "# Define the headers required for making requests to Amazon\n",
    "\n",
    "custom_headers = {\n",
    "    'user-agent': 'Mozilla/5.0 (Windows NT 10.0; Win64; x64) AppleWebKit/537.36 (KHTML, like Gecko) Chrome/128.0.0.0 Safari/537.36 OPR/114.0.0.0',\n",
    "    'accept-language': 'fr-FR,fr;q=0.9,en-US;q=0.8,en;q=0.7',\n",
    "}"
   ]
  },
  {
   "cell_type": "code",
   "execution_count": 4,
   "metadata": {},
   "outputs": [],
   "source": [
    "# Define the product's url\n",
    "\n",
    "url = 'https://www.amazon.com/Bose-QuietComfort-45-Bluetooth-Canceling-Headphones/dp/B098FKXT8L'"
   ]
  },
  {
   "cell_type": "code",
   "execution_count": 9,
   "metadata": {},
   "outputs": [],
   "source": [
    "# Make the request\n",
    "\n",
    "response = requests.get(url, headers= custom_headers)"
   ]
  },
  {
   "cell_type": "code",
   "execution_count": 10,
   "metadata": {},
   "outputs": [],
   "source": [
    "# Retrieve the content of the request\n",
    "\n",
    "soup = BeautifulSoup(response.text, 'lxml')"
   ]
  },
  {
   "cell_type": "code",
   "execution_count": 30,
   "metadata": {},
   "outputs": [
    {
     "data": {
      "text/plain": [
       "'$197.95'"
      ]
     },
     "execution_count": 30,
     "metadata": {},
     "output_type": "execute_result"
    }
   ],
   "source": [
    "# Select the price of the product\n",
    "\n",
    "soup.select_one(\"span.aok-offscreen\").text.strip()"
   ]
  },
  {
   "cell_type": "code",
   "execution_count": 31,
   "metadata": {},
   "outputs": [
    {
     "data": {
      "text/plain": [
       "'Bose QuietComfort 45 Bluetooth Wireless Noise Cancelling Headphones - Triple Black'"
      ]
     },
     "execution_count": 31,
     "metadata": {},
     "output_type": "execute_result"
    }
   ],
   "source": [
    "# Select the title of the product\n",
    "\n",
    "soup.select_one(\"#productTitle\").text.strip()"
   ]
  },
  {
   "cell_type": "code",
   "execution_count": 33,
   "metadata": {},
   "outputs": [
    {
     "data": {
      "text/plain": [
       "'The first noise cancelling headphones are back, with world-class quiet, lightweight materials, and proprietary technology for deep, clear sound. Bose QuietComfort 45 headphones aren’t just an icon reborn – they’re the perfect balance of quiet, comfort, and sound. Plus, everything that made the first around ear headphones an icon is still here. Just refined. Like an updated design with smooth cushions and a clean look. Plush synthetic leather, impact-resistant glass-filled nylon, and cast-metal hinges were all selected for their comfort as well as their durability. Add in minimal clamping force, and you’ll almost forget you’re wearing Bluetooth wireless noise cancelling headphones.'"
      ]
     },
     "execution_count": 33,
     "metadata": {},
     "output_type": "execute_result"
    }
   ],
   "source": [
    "# Select the description of the product\n",
    "\n",
    "soup.select_one(\"#productDescription\").text.strip()"
   ]
  },
  {
   "cell_type": "code",
   "execution_count": 49,
   "metadata": {},
   "outputs": [
    {
     "name": "stdout",
     "output_type": "stream",
     "text": [
      "I did a lot of research looking into bluetooth headphones; as someone with hearing damage and is very picky about how their headphones rest on their ears, I knew I couldn't settle. I bought various other pairs before trying Bose Quiet Comfort, such as KVIDIO (Not tight to head/sound leaking, bassy sound), Sennheiser 350BT (Pinched my ears, quieter than other sets, could hear myself in calls and couldn't turn off in app), and Soundcore Q35 (Entirely different sound depending on the device and if plugged in, couldn't listen to music and be in voice call at same time without plugging in), all of which had their dilemmas. I really wanted a nice pair of bluetooth headphones for cheap, but in my search I recognized that wasn't possible, so I saved up what I had and thankfully snagged this on discount (bought for $180).The sound is absolutely immersive; my worries about these headphones was that the bass was going to be too heavy, as SONY bluetooth headphones and other sets in this price range are usually very bass heavy. Fortunately, that wasn't the case with Quiet Comfort; it's strong, but it doesn't overpower. The mids and treble sound great too, and I can't say I've had any issues with listening to music, calls with friends, etc, other than those friends having shoddy microphones (No problem though).The fit on this set is also solid; I have noticed in warmer weather that my ears get sweaty, but that's to be expected with any headset that's over-ear. My only note is that I noticed the inside of the headphones have molded to my ear. When I first got them, the meshy material with the L and R was flat, but now it's slightly caved in. I'm not sure if it's impacted anything, because I haven't heard a difference in sound, and they don't feel different. I will keep an eye on it for when I update this review.The controls are simple, a switch on button and three buttons to turn up, down, pause, and skip music (and if on mobile, to use your voice assistant) on the right cuff. On the left, the only button is the noise cancelling (two settings; aware and noise-cancel). I enjoy that this headset has two ports, one for charging, and another to plug them into the device to use instead of bluetooth. However, I will note to anyone that uses these headphones plugged in; when the set is in wired mode, it disables bluetooth, and when still on it sounds incredibly quiet. And, when turned off and plugged in, the EQ and Stereo Sound disable, so using the headphones without them being on is really rough. These doesn't steer me away from using them though, as I mainly use them on and via bluetooth. I mean, to be honest, who uses bluetooth headphones with a wire anyway unless they're dead?I'm also actually pretty impressed by the battery on these. They last me all day and night, and I plug them in when I sleep. They charge really fast, and I've only had two occasions of low battery, mainly due to me forgetting to charge em.Overall, my only worry onward is the deterioration, if there is any, and possible connection issues. Haven't had those yet, and hopefully I won't in a year.\n",
      "\n",
      "From the minute these headphones were placed I could immediately tell these are special. The quality of sound, the comfort of the head band and the soft cushion of the ear piece: heaven. I’m not a techie but I know what works for me and this definitely works! These came recommended by a techie therefore I know these are great but from a user standpoint these will be perfect for everyday use, traveling and anytime you want to listen to music and tune out the rest. The battery life is great and the case is perfect. The product warrants thus price I got on Black Friday. Connects to Blue tooth easily and is easy to set up and use. Highly recommend.\n",
      "\n",
      "I got these because they supposedly had decent noise canceling, and they were light weight.The noise cancelling is pretty good, and you can't really hear much at all if you have music on, but you can still hear everything (just muffled) with no sound playing. Which is ideal for me, and something I really like about this product.They are also not that heavy, and don't give me awful headaches like a lot of headphones do.The sound quality is also GREAT.The only downsides are that the mic is a little quiet, and you won't be able to be heard over the phone on a windy day. And they aren't super tight on my head, so they do fall off easy if you're doing even light jogging.They also connect to your devices pretty quickly, especially if you use the same device over and over. The only problem is when someone decides to borrow them, and then it has to test that connection first the next time you pick them up. Even WORSE if they're in the room because they will constantly connect to that device haha.That being said, I use these at my desk, and to walk to class all the time. The battery lasts ages (although it does take a little while to charge), and they're super comfortable. The case also keeps them nicely packed, and they are much sturdier than they look. I usually just put them around my neck to leave the house, and honestly I have had no problems with that in terms of wear.I've had them for a little over a year now, and I use them just about every day, and they are showing ZERO signs of wear or tear. I would HIGHLY recommend these.\n",
      "\n",
      "I use these headphones all of the time and have owned them for slightly over a year. They see daily use with multiple hours on end. Battery life is great. Earmuffs are still intact. The case seems pretty protective. Both noise canceling and aware mode work perfectly well. Noise canceling works so well that I can't hear people talking to me unless they are extremely close to me.\n",
      "\n",
      "Produto excelente ,não a comparação com os demais. Você não tem barulho externo,não tem distorção no som.\n",
      "\n",
      "Yo los compre el 28 de marzo del 2022 y hasta la fecha no he tenido ninguna queja con los audífonos, el audio super bien la calidad de los materiales muy bueno, el único tema son las almohadillas ya que se están descarapelando aunque esto lo atribuyo a que en estos dos años les he dado un uso casi diario y alrededor de 12 horas por día ya que los uso en la oficina, su cancelación de ruido es una maravilla y me ha ayudado bastante debido a que me distraigo mucho.\n",
      "\n",
      "Çok rahat gerçekten ayrıca gürültü engelleme özelliği de gayet iyi. Toplu taşımada yolculuk ederken, dünyadan koparıyor sizi :)Tek kötü tarafı telefon görüşmesi yaparken mikrofon kalitesi. Onun dışında kesinlikle çok iyi.Tavsiye ederim.\n",
      "\n",
      "C'est le casque le plus CONFORTABLE que j'ai eu. Je peux le porter pendant des heures sans douleurs.Très bonne réduction de bruit également (meilleur que le QC35 II)\n",
      "\n",
      "الصوت ولا اروع سماعات بوز غنية عن التعريفالبطارية تعمر لفترة طويلةمريحة في اللبس ولا تحس فيها ليست ثقيلةعلبتها ما تاخذ حيز كبير في الشنطة لان السيماعه تنطوي بطريقة جميلة\n",
      "\n"
     ]
    }
   ],
   "source": [
    "# Select a review of the product\n",
    "\n",
    "for i in soup.select(\".reviewText\") :\n",
    "    print(i.text.strip(), end = \"\\n\\n\")"
   ]
  },
  {
   "cell_type": "code",
   "execution_count": null,
   "metadata": {},
   "outputs": [],
   "source": []
  }
 ],
 "metadata": {
  "kernelspec": {
   "display_name": "env",
   "language": "python",
   "name": "python3"
  },
  "language_info": {
   "codemirror_mode": {
    "name": "ipython",
    "version": 3
   },
   "file_extension": ".py",
   "mimetype": "text/x-python",
   "name": "python",
   "nbconvert_exporter": "python",
   "pygments_lexer": "ipython3",
   "version": "3.12.6"
  }
 },
 "nbformat": 4,
 "nbformat_minor": 2
}
