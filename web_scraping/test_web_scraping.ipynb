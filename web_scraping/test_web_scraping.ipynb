{
 "cells": [
  {
   "cell_type": "code",
   "execution_count": null,
   "metadata": {},
   "outputs": [],
   "source": []
  },
  {
   "cell_type": "code",
   "execution_count": 7,
   "metadata": {},
   "outputs": [],
   "source": [
    "custom_headers = {\n",
    "    'user-agent': 'Mozilla/5.0 (Windows NT 10.0; Win64; x64) AppleWebKit/537.36 (KHTML, like Gecko) Chrome/128.0.0.0 Safari/537.36 OPR/114.0.0.0',\n",
    "    'accept-language': 'fr-FR,fr;q=0.9,en-US;q=0.8,en;q=0.7',\n",
    "}"
   ]
  },
  {
   "cell_type": "code",
   "execution_count": 10,
   "metadata": {},
   "outputs": [],
   "source": [
    "import requests\n",
    "from bs4 import BeautifulSoup\n",
    "url = 'https://www.amazon.com/Bose-QuietComfort-45-Bluetooth-Canceling-Headphones/dp/B098FKXT8L'\n",
    "\n",
    "response = requests.get(url, headers= custom_headers)\n",
    "soup = BeautifulSoup(response.text, \"lxml\")"
   ]
  },
  {
   "cell_type": "code",
   "execution_count": 21,
   "metadata": {},
   "outputs": [
    {
     "data": {
      "text/plain": [
       "'Bose QuietComfort 45 Wireless Bluetooth Noise Cancelling Headphones, Over-Ear Headphones with Microphone, Personalized Noise Cancellation and Sound, Triple Black'"
      ]
     },
     "execution_count": 21,
     "metadata": {},
     "output_type": "execute_result"
    }
   ],
   "source": [
    "soup.select_one('#productTitle').text.strip()"
   ]
  },
  {
   "cell_type": "code",
   "execution_count": 38,
   "metadata": {},
   "outputs": [
    {
     "data": {
      "text/plain": [
       "\"I'm really enjoying these headphones so far, even after trying AirPods Max and Sony XM4. The QC45 just feel more comfortable to me, which may vary by individual. If you check out the RTINGS comparison you'll find the sound is actually better than the XM4 and they use scientific methods of comparison, not just throwing them on and making a judgement call. I agree that Bose should offer more customization to suit personal preference but that's an easy thing to add later in a software update. Noise cancelling beats the XM4 in my opinion and perhaps tied or exceeds AirPods Max -- tough to say. If you value comfort and plan to wear these for extending periods definitely consider this model. Don't get a QC35 like some have said, no USB-C, older technology in general, and QC35 probably won't get much software support going forward (being the old model).Update 01/11/2022: Still loving these headphones! I've taken them on several trips (including air travel) and they've performed very well. Battery life is long and they can simultaneously connect to multiple devices so you can pair them with a laptop, phone, tablet, etc without fiddling much with bluetooth settings. Noise cancellation makes the cabin noise in a plane much more tolerable and the controls with physical buttons are fantastic compared to both Sony and Apple competition. I have not tried the Bose NC700, but I am very particular to headphone comfort and design and I don't believe I would find them as nice to wear for long durations. Mic quality seems to be great, I use them in meetings frequently and have listened to myself through the mic to test. It won't compete with a standalone microphone, but nonetheless good for a wireless option.Update 07/14/2022: Since purchase Bose has added equalizer settings via a software update (to allow you to tweak the sound), eliminating one of my original complaints entirely. The Sony XM5 have also released. I can’t speak to how good the XM5 is, but know this — the XM5 is more expensive and no longer folds down to a compact form like the XM4 before it. Losing the ability to fold up automatically eliminates the XM5 from consideration for me personally. Traveling with the bulky case of the XM5 does not seem appealing.Update 11/16/2022: The headphones are still going strong! Over the past year I've been using these headphones almost every day. If you're going to use these headphones for meetings be aware that the microphone quality over Bluetooth connection is not that great. The Sony XM5 will produce a better sounding mic, however, even that is not great due to the limitations of Bluetooth technology. I've also experienced some audio cutouts when connected to multiple devices at once -- if you experience this I suggest disconnecting from all devices and connecting to only a single device at a time. Hopefully the next software update will completely fix this issue. In terms of future technology, I'm looking forward to Bluetooth LE Audio which should prove to be a big leap forward for Bluetooth devices in terms of streaming high fidelity mic and audio. Unfortunately, LE Audio will likely require new hardware so it may be quite some time before we can reap the benefits.\\nRead more\""
      ]
     },
     "execution_count": 38,
     "metadata": {},
     "output_type": "execute_result"
    }
   ],
   "source": [
    "soup.select('div.review')[0].select_one(\"span.review-text\").text.strip()"
   ]
  }
 ],
 "metadata": {
  "kernelspec": {
   "display_name": "env",
   "language": "python",
   "name": "python3"
  },
  "language_info": {
   "codemirror_mode": {
    "name": "ipython",
    "version": 3
   },
   "file_extension": ".py",
   "mimetype": "text/x-python",
   "name": "python",
   "nbconvert_exporter": "python",
   "pygments_lexer": "ipython3",
   "version": "3.12.6"
  }
 },
 "nbformat": 4,
 "nbformat_minor": 2
}
