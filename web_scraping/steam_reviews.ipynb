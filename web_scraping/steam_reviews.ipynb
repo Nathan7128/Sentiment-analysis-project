{
 "cells": [
  {
   "cell_type": "code",
   "execution_count": 1,
   "metadata": {},
   "outputs": [],
   "source": [
    "import requests\n",
    "from bs4 import BeautifulSoup"
   ]
  },
  {
   "cell_type": "code",
   "execution_count": 3,
   "metadata": {},
   "outputs": [],
   "source": [
    "url = \"https://steamcommunity.com/app/271590/reviews/?browsefilter=toprated&snr=1_5_100010_\""
   ]
  },
  {
   "cell_type": "code",
   "execution_count": 4,
   "metadata": {},
   "outputs": [],
   "source": [
    "response = requests.get(url)"
   ]
  },
  {
   "cell_type": "code",
   "execution_count": 5,
   "metadata": {},
   "outputs": [],
   "source": [
    "soup = BeautifulSoup(response.text, 'lxml')"
   ]
  },
  {
   "cell_type": "code",
   "execution_count": 9,
   "metadata": {},
   "outputs": [
    {
     "data": {
      "text/plain": [
       "'Posted: 20 January, 2022\\n\\t\\t\\t\\t\\t\\t\\t\\t\\t\\t\\t\\t\\t\\t\\t\\tbooted into a lobby and saw my address in the chat, this game makes me feel safe'"
      ]
     },
     "execution_count": 9,
     "metadata": {},
     "output_type": "execute_result"
    }
   ],
   "source": [
    "soup.select_one(\".apphub_CardTextContent\").text.strip()"
   ]
  },
  {
   "cell_type": "code",
   "execution_count": 11,
   "metadata": {},
   "outputs": [
    {
     "name": "stdout",
     "output_type": "stream",
     "text": [
      "Posted: 20 January, 2022\n",
      "\t\t\t\t\t\t\t\t\t\t\t\t\t\t\t\tbooted into a lobby and saw my address in the chat, this game makes me feel safe\n",
      "Posted: 9 August, 2021\n",
      "\t\t\t\t\t\t\t\t\t\t\t\t\t\t\t\tIt takes 10859 hours to get all the achievements in the game. It is still a good game though. I recommend it, and GTA 6 when it releases. I wish you all the best. Boop.\n",
      "Posted: 21 April, 2018\n",
      "\t\t\t\t\t\t\t\t\t\t\t\t\t\t\t\tAfter more than 1000 hours, 3 shark cards invested, no mod, or exploit used ever I was banned, account reset, everything lost, no explanation given, ticket closed by support: \" banning decisions are final and may not be appealed\"Grand theft indeed, of your time and money.\n",
      "Posted: 7 June\n",
      "\t\t\t\t\t\t\t\t\t\t\t\t\t\t\t\tVery good game pls get rid of bikini lady in loading screen my mom is gonna kill me\n",
      "Posted: 13 July, 2023\n",
      "\t\t\t\t\t\t\t\t\t\t\t\t\t\t\t\tBest loading screen simulator since 2013.\n",
      "Posted: 27 June, 2021\n",
      "\t\t\t\t\t\t\t\t\t\t\t\t\t\t\t\tGTA Online is the proof that world peace cannot be achieved.\n",
      "Posted: 3 October, 2021\n",
      "\t\t\t\t\t\t\t\t\t\t\t\t\t\t\t\tMost milked game ever in human history.\n",
      "Posted: 11 October, 2020\n",
      "\t\t\t\t\t\t\t\t\t\t\t\t\t\t\t\t2/3 of my play hours is loading time.\n",
      "Posted: 21 August, 2023\n",
      "\t\t\t\t\t\t\t\t\t\t\t\t\t\t\t\tGot into online and saw my IP address, ISP, and location in the chat. I really feel like I'm at home\n",
      "Posted: 16 December, 2020\n",
      "\t\t\t\t\t\t\t\t\t\t\t\t\t\t\t\tI just passed the 2000h playtime. So, I decided to write a review in brief.Fun game but damn, it has a cancer Community like a shet. If you want to enjoy this game with friends, make a private session. So, no any level +1000 kid who thinks hes Thanos and annoy you. Have Fun!\n"
     ]
    }
   ],
   "source": [
    "for i in soup.select(\"div.apphub_CardTextContent\") :\n",
    "    print(i.text.strip())"
   ]
  },
  {
   "cell_type": "code",
   "execution_count": null,
   "metadata": {},
   "outputs": [],
   "source": []
  },
  {
   "cell_type": "code",
   "execution_count": null,
   "metadata": {},
   "outputs": [],
   "source": []
  }
 ],
 "metadata": {
  "kernelspec": {
   "display_name": "env",
   "language": "python",
   "name": "python3"
  },
  "language_info": {
   "codemirror_mode": {
    "name": "ipython",
    "version": 3
   },
   "file_extension": ".py",
   "mimetype": "text/x-python",
   "name": "python",
   "nbconvert_exporter": "python",
   "pygments_lexer": "ipython3",
   "version": "3.12.6"
  }
 },
 "nbformat": 4,
 "nbformat_minor": 2
}
