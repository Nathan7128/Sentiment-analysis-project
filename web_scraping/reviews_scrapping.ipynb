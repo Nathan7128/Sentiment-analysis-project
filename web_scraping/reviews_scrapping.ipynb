{
 "cells": [
  {
   "cell_type": "markdown",
   "metadata": {},
   "source": [
    "---\n",
    "# 1/ Finding the AppID of the selected game (The Crew 2 in this case)\n",
    "---"
   ]
  },
  {
   "cell_type": "markdown",
   "metadata": {},
   "source": [
    "To access the reviews page of a Steam game, we need the AppID of the game.  \n",
    "To achieve this, we will use Steam's game search page by entering the game name.  \n",
    "Then, we will display (on the Streamlit app) a list of the top 5 (or less/more) results from the search, allowing the user to select the corresponding game.  \n",
    "Based on this selection, we will scrape the AppID of the chosen game using the HTML content of Steam's game search page."
   ]
  },
  {
   "cell_type": "markdown",
   "metadata": {},
   "source": [
    "## Importing libraries"
   ]
  },
  {
   "cell_type": "code",
   "execution_count": 1,
   "metadata": {},
   "outputs": [],
   "source": [
    "import requests\n",
    "\n",
    "from bs4 import BeautifulSoup\n",
    "\n",
    "import urllib.parse"
   ]
  },
  {
   "cell_type": "code",
   "execution_count": 2,
   "metadata": {},
   "outputs": [
    {
     "name": "stdout",
     "output_type": "stream",
     "text": [
      "https://store.steampowered.com/search/?term=the%20crew%202\n"
     ]
    }
   ],
   "source": [
    "# This url corresponds to the game search page on Steam\n",
    "# It is necessary to transform the game name into URL format\n",
    "\n",
    "game_name = \"the crew 2\"\n",
    "search_page_url = \"https://store.steampowered.com/search/?term=\" + urllib.parse.quote(game_name)\n",
    "print(search_page_url)"
   ]
  },
  {
   "cell_type": "code",
   "execution_count": 3,
   "metadata": {},
   "outputs": [],
   "source": [
    "# Request the URL of the search page\n",
    "search_page_response = requests.get(search_page_url)"
   ]
  },
  {
   "cell_type": "code",
   "execution_count": 4,
   "metadata": {},
   "outputs": [],
   "source": [
    "# Retrieve the HTML content of the page\n",
    "search_page_soup = BeautifulSoup(search_page_response.text, 'lxml')"
   ]
  },
  {
   "cell_type": "markdown",
   "metadata": {},
   "source": [
    "Scrape the game names and their corresponding AppIDs"
   ]
  },
  {
   "cell_type": "code",
   "execution_count": 5,
   "metadata": {},
   "outputs": [
    {
     "name": "stdout",
     "output_type": "stream",
     "text": [
      "{'The Crew™ 2': '646910', 'The Crew 2 - Season Pass': '889890', 'The Crew 2 Demo': '1075340', 'The Crew 2 - Mazda RX8 Starter Pack': '2183882', 'The Crew Motorfest | Year 2 Pass': '3251420'}\n"
     ]
    }
   ],
   "source": [
    "game_names_list = []\n",
    "appIDs_list = []\n",
    "\n",
    "games_list_result = search_page_soup.find_all(\"a\", class_ = \"search_result_row ds_collapse_flag\", limit = 5)\n",
    "\n",
    "for game in games_list_result :\n",
    "    game_names_list.append(game.find(class_ = \"title\").get_text(strip = True))\n",
    "    appIDs_list.append(game.get(\"data-ds-appid\"))\n",
    "\n",
    "# Dictionary of game names and their corresponding AppIDs\n",
    "dict_game = dict(zip(game_names_list, appIDs_list))\n",
    "print(dict_game)"
   ]
  },
  {
   "cell_type": "code",
   "execution_count": 6,
   "metadata": {},
   "outputs": [
    {
     "name": "stdout",
     "output_type": "stream",
     "text": [
      "646910\n"
     ]
    }
   ],
   "source": [
    "# We select the game \"The Crew 2\"\n",
    "final_AppID = dict_game[game_names_list[0]]\n",
    "print(final_AppID)"
   ]
  },
  {
   "cell_type": "code",
   "execution_count": 7,
   "metadata": {},
   "outputs": [
    {
     "name": "stdout",
     "output_type": "stream",
     "text": [
      "https://steamcommunity.com/app/646910/reviews\n"
     ]
    }
   ],
   "source": [
    "# We now have the URL of the Steam reviews page for the selected game\n",
    "reviews_page_url = \"https://steamcommunity.com/app/\" + final_AppID + \"/reviews\"\n",
    "print(reviews_page_url)"
   ]
  },
  {
   "cell_type": "markdown",
   "metadata": {},
   "source": [
    "# 2/ Set the parameters for the reviews search"
   ]
  },
  {
   "cell_type": "markdown",
   "metadata": {},
   "source": [
    "To filter the reviews obtained, it is possible to set parameters as the review sorting method, the review language, and the maximum number of reviews to scrape.  \n",
    "In our case, the user will choose these parameters on the Streamlit app.  \n",
    "After setting these parameters, we will define the URL of the reviews page based on the selected filters.  \n",
    "To apply these filters, we will use BeautifulSoup once again..."
   ]
  },
  {
   "cell_type": "code",
   "execution_count": 10,
   "metadata": {},
   "outputs": [],
   "source": [
    "# Request the URL of the initial reviews page\n",
    "reviews_page_response = requests.get(reviews_page_url)"
   ]
  },
  {
   "cell_type": "code",
   "execution_count": 11,
   "metadata": {},
   "outputs": [],
   "source": [
    "# Retrieve the HTML content of the page\n",
    "reviews_page_soup = BeautifulSoup(reviews_page_response.text, 'lxml')"
   ]
  },
  {
   "cell_type": "markdown",
   "metadata": {},
   "source": [
    "## Set the review sorting method"
   ]
  },
  {
   "cell_type": "code",
   "execution_count": 124,
   "metadata": {},
   "outputs": [
    {
     "name": "stdout",
     "output_type": "stream",
     "text": [
      "{'Most Helpful(All Time)': '?p=1&browsefilter=toprated', 'Most Helpful(Today)': '?p=1&browsefilter=trendday', 'Most Helpful(Week)': '?p=1&browsefilter=trendweek', 'Most Helpful(Month)': '?p=1&browsefilter=trendmonth', 'Most Helpful(Three Months)': '?p=1&browsefilter=trendthreemonths', 'Most Helpful(Six Months)': '?p=1&browsefilter=trendsixmonths', 'Most Helpful(Year)': '?p=1&browsefilter=trendyear', 'Most Recent': '?p=1&browsefilter=mostrecent', 'Recently Updated': '?p=1&browsefilter=recentlyupdated', 'Funny': '?p=1&browsefilter=funny'}\n"
     ]
    }
   ],
   "source": [
    "# List containing the names of the sorting methods to be displayed on the Streamlit app\n",
    "sorting_methods_name_list = []\n",
    "\n",
    "# List containing the identifier of the sorting methods to be added to the final reviews page URL\n",
    "sorting_methods_identifier_list = []\n",
    "\n",
    "sorting_methods_result = reviews_page_soup.find(\"div\", class_ = \"filterselect_options shadow_content\").find_all(\"div\", class_ = \"option\")\n",
    "\n",
    "for sorting_method in sorting_methods_result :\n",
    "    sorting_methods_identifier_list.append(sorting_method.get(\"onclick\").replace(\"javascript:SelectContentFilter( '\", \"\").replace(\"' );\", \"\"))\n",
    "    sorting_method_text = sorting_method.get_text(strip = True)\n",
    "    sorting_methods_name_list.append(sorting_method_text)\n",
    "\n",
    "# Dictionary of sorting methods names and their corresponding identifier\n",
    "dict_sorting_methods = dict(zip(sorting_methods_name_list, sorting_methods_identifier_list))\n",
    "print(dict_sorting_methods)"
   ]
  },
  {
   "cell_type": "code",
   "execution_count": 132,
   "metadata": {},
   "outputs": [
    {
     "name": "stdout",
     "output_type": "stream",
     "text": [
      "?p=1&browsefilter=trendyear\n"
     ]
    }
   ],
   "source": [
    "# In our case, we choose the sorting method 'Most Helpful(Year)'\n",
    "sorting_method_identifier = dict_sorting_methods['Most Helpful(Year)']\n",
    "print(sorting_method_identifier)"
   ]
  },
  {
   "cell_type": "markdown",
   "metadata": {},
   "source": [
    "## Set the language for the reviews"
   ]
  },
  {
   "cell_type": "code",
   "execution_count": 130,
   "metadata": {},
   "outputs": [
    {
     "name": "stdout",
     "output_type": "stream",
     "text": [
      "{'All Languages': 'filterLanguage=all', 'Simplified Chinese': 'filterLanguage=schinese', 'Traditional Chinese': 'filterLanguage=tchinese', 'Japanese': 'filterLanguage=japanese', 'Korean': 'filterLanguage=koreana', 'Thai': 'filterLanguage=thai', 'Bulgarian': 'filterLanguage=bulgarian', 'Czech': 'filterLanguage=czech', 'Danish': 'filterLanguage=danish', 'German': 'filterLanguage=german', 'English': 'filterLanguage=english', 'Spanish - Spain': 'filterLanguage=spanish', 'Spanish - Latin America': 'filterLanguage=latam', 'Greek': 'filterLanguage=greek', 'French': 'filterLanguage=french', 'Italian': 'filterLanguage=italian', 'Indonesian': 'filterLanguage=indonesian', 'Hungarian': 'filterLanguage=hungarian', 'Dutch': 'filterLanguage=dutch', 'Norwegian': 'filterLanguage=norwegian', 'Polish': 'filterLanguage=polish', 'Portuguese - Portugal': 'filterLanguage=portuguese', 'Portuguese - Brazil': 'filterLanguage=brazilian', 'Romanian': 'filterLanguage=romanian', 'Russian': 'filterLanguage=russian', 'Finnish': 'filterLanguage=finnish', 'Swedish': 'filterLanguage=swedish', 'Turkish': 'filterLanguage=turkish', 'Vietnamese': 'filterLanguage=vietnamese', 'Ukrainian': 'filterLanguage=ukrainian'}\n"
     ]
    }
   ],
   "source": [
    "# List containing the names of the languages to be displayed on the Streamlit app\n",
    "languages_name_list = []\n",
    "\n",
    "# List containing the identifier of the languages to be added to the final reviews page URL\n",
    "languages_identifier_list = []\n",
    "\n",
    "languages_result = reviews_page_soup.find(\"div\", class_ = \"filterselect_options language shadow_content\").find_all(\"div\", class_ = \"option\")\n",
    "\n",
    "for language in languages_result :\n",
    "    languages_identifier_list.append(language.get(\"onclick\").replace(\"javascript:SelectLanguageFilter( '?\", \"\").replace(\"' );\", \"\"))\n",
    "    language_text = language.get_text(strip = True)\n",
    "    languages_name_list.append(language_text)\n",
    "\n",
    "# Dictionary of languages names and their corresponding identifier\n",
    "dict_languages = dict(zip(languages_name_list, languages_identifier_list))\n",
    "print(dict_languages)"
   ]
  },
  {
   "cell_type": "code",
   "execution_count": 131,
   "metadata": {},
   "outputs": [
    {
     "name": "stdout",
     "output_type": "stream",
     "text": [
      "filterLanguage=english\n"
     ]
    }
   ],
   "source": [
    "# In our case, we choose English language\n",
    "language_identifier = dict_languages['English']\n",
    "print(language_identifier)"
   ]
  },
  {
   "cell_type": "markdown",
   "metadata": {},
   "source": [
    "## Set the maximum number of reviews to scrape"
   ]
  },
  {
   "cell_type": "code",
   "execution_count": 139,
   "metadata": {},
   "outputs": [],
   "source": [
    "max_review = 100"
   ]
  },
  {
   "cell_type": "markdown",
   "metadata": {},
   "source": [
    "## Define the final URL with the selected filters"
   ]
  },
  {
   "cell_type": "code",
   "execution_count": 133,
   "metadata": {},
   "outputs": [
    {
     "name": "stdout",
     "output_type": "stream",
     "text": [
      "https://steamcommunity.com/app/646910/reviews?p=1&browsefilter=trendyear&filterLanguage=english\n"
     ]
    }
   ],
   "source": [
    "final_reviews_page_url = reviews_page_url + sorting_method_identifier + \"&\" + language_identifier\n",
    "print(final_reviews_page_url)"
   ]
  },
  {
   "cell_type": "markdown",
   "metadata": {},
   "source": [
    "By observing this page, we can see that not all reviews are in the HTML content...  \n",
    "This is because the page needs to be loaded by scrolling to the bottom.  \n",
    "To solve this, we will use Selenium library to scroll to the bottom of the page, ensuring that all reviews are loaded in the HTML content."
   ]
  },
  {
   "cell_type": "markdown",
   "metadata": {},
   "source": [
    "---\n",
    "# 3/ Scroll the page using Selenium\n",
    "---"
   ]
  },
  {
   "cell_type": "markdown",
   "metadata": {},
   "source": [
    "## Importing libraries"
   ]
  },
  {
   "cell_type": "code",
   "execution_count": 140,
   "metadata": {},
   "outputs": [],
   "source": [
    "from selenium import webdriver\n",
    "from selenium.webdriver.common.by import By\n",
    "from selenium.webdriver.support.ui import WebDriverWait\n",
    "from selenium.webdriver.support import expected_conditions as EC\n",
    "from selenium.webdriver.chrome.service import Service\n",
    "from selenium.webdriver.chrome.options import Options\n",
    "from selenium.webdriver.common.action_chains import ActionChains\n",
    "\n",
    "from webdriver_manager.chrome import ChromeDriverManager"
   ]
  },
  {
   "cell_type": "markdown",
   "metadata": {},
   "source": [
    "## Create and launch the Selenium driver"
   ]
  },
  {
   "cell_type": "code",
   "execution_count": 150,
   "metadata": {},
   "outputs": [],
   "source": [
    "# Set the options to launch the driver in the background\n",
    "chrome_options = Options()\n",
    "chrome_options.add_argument(\"--headless\")\n",
    "\n",
    "# Launch the driver\n",
    "driver = webdriver.Chrome(options = chrome_options, service=Service(ChromeDriverManager().install()))\n",
    "\n",
    "# Access the Steam reviews page\n",
    "driver.get(final_reviews_page_url)"
   ]
  },
  {
   "cell_type": "code",
   "execution_count": 151,
   "metadata": {},
   "outputs": [],
   "source": [
    "end = False\n",
    "\n",
    "action_wait = driver.find_element(by = By.XPATH, value = '//*[@id=\"action_wait\"]/img')\n",
    "getMoreContent = driver.find_element(by = By.ID, value = 'GetMoreContentBtn')\n",
    "noMoreContent = driver.find_element(by = By.XPATH, value = '//*[@id=\"NoMoreContent\"]/div[2]/a')\n",
    "\n",
    "while end == False and len(driver.find_elements(By.CLASS_NAME, 'apphub_CardTextContent')) < max_review :\n",
    "    try :\n",
    "        ActionChains(driver).scroll_to_element(noMoreContent).perform()\n",
    "        end = True\n",
    "    except :\n",
    "        ActionChains(driver).scroll_to_element(getMoreContent).perform()\n",
    "        WebDriverWait(driver, 10).until(EC.invisibility_of_element(action_wait))"
   ]
  },
  {
   "cell_type": "code",
   "execution_count": 152,
   "metadata": {},
   "outputs": [],
   "source": [
    "result_soup = BeautifulSoup(driver.page_source, \"lxml\")"
   ]
  },
  {
   "cell_type": "code",
   "execution_count": 145,
   "metadata": {},
   "outputs": [],
   "source": [
    "reviews = result_soup.find_all(\"div\", class_ = \"apphub_CardTextContent\")"
   ]
  },
  {
   "cell_type": "code",
   "execution_count": 153,
   "metadata": {},
   "outputs": [
    {
     "name": "stdout",
     "output_type": "stream",
     "text": [
      "Justice for The Crew 1\n",
      "\n",
      "Worth 1$*\n",
      "* be aware Ubisoft can disable The Crew 2 servers!\n",
      "\n",
      "I used to be able to say \"yes, get this game,\" but now that you've taken it's predecessor offline, I cannot and won't. How long do we have, maybe another 2 to 3 years for this game? Possibly even less because of your focus on the other game? I don't like modern Forza games, but at least they let you play their older games even without an online connection. If you can't even do that for your consumers, then why bother make anymore games?\n",
      "\n",
      "Eh, for a $1 USD you can't complain. The game isn't bad, with the little time I played today I drove all the way from California to New York and it was a fun drive. At least Ubisoft has stated that they are going to give this game an offline mode which is fantastic considering they up and left The Crew 1 and shutdown all servers. You can't play it anymore, and they need some good reputation at the moment.\n",
      "Ubisoft/Ivory Tower haven't stated anything that the game is going offline, but it seems like it might sometime soon with future-proofing the game and giving it a 98% discount on all platforms.\n",
      "\n",
      "Forza Horizon fan.  Having fun in Crew 2 with all the different vehicle and event types.  C2 runs smooth, no bugs, and each event type is well designed and implemented.  Only frustration, I did not reach Platinum division in the Summit my first week.\n",
      "Being rich in Forza means you can buy and tune a competitive vehicle.  In Crew 2, you buy the base vehicle, but you have to grind for upgrade parts.\n",
      "FH has classes (B, A, S1, S2).  C2 does not.  All vehicles of same type in C2 have same max tune value.\n",
      "FH no Nitro, C2, Nitro is primary factor.\n",
      "C2, no Auction House nor any way to sell vehicles.\n",
      "C2, leaderboards are more integral, and are a focus of endgame/seasons (Summit).\n",
      "I have over 700 vehicles in FH5.  In C2 earning vehicles is a MUCH slower process, and so far, I don't see much incentive to collect cars, beyond appearance and Summit requirements.  Do different Street Race cars handle differently at max stats??  excluding part affixes and awd.\n",
      "\n",
      "Ubisoft destroyed The Crew to force people to buy the sequel, while also refusing to refund anyone or\n",
      "enable the hidden offline mode that is already in the game.\n",
      "If you want to make a difference and stop this from becoming the industry standard in the future:\n",
      "https://www.stopkillinggames.com/\n",
      "\n",
      "Ubisoft without assassins creed you are nothing and you know that and now you make a big mistake removing a game that we own who tells me that you are not do it again with other games in the future? you are the worst company that i ever see all this years leave from steam and this time DONT COME BACK AGAIN.\n",
      "\n",
      "I have a feeling that this game was designed by people who had never actually driven or sat in a car, and everything they knew about driving was through bing searches and 80's action movies.\n",
      "Still worth the price tho, beautiful graphics and racists\n",
      "\n",
      "THIS -98% SAYS A LOT, DO NOT FALL FOR IT!\n",
      "First of all, Ubisoft is burning down right now.\n",
      "If you follow the gaming news, you know that Ubisoft is in\n",
      "SERIOUS\n",
      "trouble. Nobody is buying their \"AAAA\" shovelware tier \"games\", their stock prices are falling deeper than the Titanic and so hard like they're made of tungsten, and recently their investors are so pissed off that they want to kick the Ubisoft CEO Yves Guillemot ass off the building.\n",
      "After they said we should be\n",
      "\"feeling comfortable with not owning our games\"\n",
      ", they just pulled the plug on The Crew 1 and REMOVED THE GAME FROM EVERYONE'S LIBRARY WITHOUT REFUND, because they didn't want to make an offline mode for it. This basically made the last drop of trust they have to vanish.\n",
      "They're trying to get back some goodwill with the offline mode, but don't you think they changed.\n",
      "Ubisoft managed to take every single worst step possible to be in this state, now FOR SOME BIG COINCIDENCE after the CEO firing drama they announced that an offline mode for The Crew 2 (and Motorfest) is in the oven, and slaps a\n",
      "98% OFF\n",
      "in price for everybody see it, for what looks like, an desperate attempt to make look like they changed (or\n",
      "in their own words\n",
      "[x.com]\n",
      ", they\n",
      "\"heard our concerns about access to The Crew games\"\n",
      "), just in\n",
      "the most convenient of times\n",
      ".\n",
      "Is Ubisoft we're talking about, they can announce the offline mode and just release it in the next f*king 11 years from now,  like they did with Skull & Bones\n",
      "If Ubisoft is thinking in doing a good thing is because it benefits them,\n",
      "not you\n",
      "My theory\n",
      "This probably isn't a theory that makes you wanna get a tin foil hat, but anyway...\n",
      "Recently the Crew 2 was hitting about\n",
      "600 daily peak players\n",
      "[steamdb.info]\n",
      "and Motorfest about\n",
      "300 daily peak players\n",
      "[steamdb.info]\n",
      ", both without an offline mode.\n",
      "A 6 years old game with more player numbers than the one meant to replace it (wich was released LAST YEAR).\n",
      "Honestly I don't see a world that they don't pull the plug for The Crew 2 in less than 1 year from now (even it having more player than the \"new and shine\" one).\n",
      "They're\n",
      "DESPERATE\n",
      "to boost the Motorfest numbers, and if they just shut down the servers for the old game without refunding AGAIN, after hearing all the noise we made, that will basically be the final dot in Ubisoft's history.\n",
      "This may be nonsense, but let's get real. If the plan was adding an offline mode (wich is not bad) they could simply just work on it in the background and release when is finished. This Ubisoft suit & tie morons just needs every positive coments and sell numbers they can possibly have to show their investors, they just gonna show the sell numbers for The Crew 2 (wich basically f*cking free and will not make a diference in their balance) and everyone happy about an offline mode.\n",
      "\n",
      "Alright.\n",
      "The Crew 2\n",
      ". Judging from the current all-time high concurrent peak player counts for the game, I'd say a lot of people are aware of this game currently being priced at one dollar (and less in some regions). And a lot of people have bought the game as a result of this stunning deal. Including myself. Just to get it out of the way, if you have something to say about The Crew 1's removal, go to the game forum. I'm not interested in the topic as part of this review. So...\n",
      "The Crew 2\n",
      "Une capture d'écran de The Crew 2\n",
      "Par :\n",
      "robilar5500\n",
      "I am confident I would never have bought this game had it not been a buck, and I'm also confident that a lot of people have the same opinion. But since it was a buck, I did in fact buy it, and I'm glad I did. It's hella fun. The gameplay loop of joining events and races, using the cash you earn to buy new vehicles and such, and upgrading your vehicles with loot rewards from events and races, is pretty simple. But it is also effective. As you progress, you will unlock more events and races, and because they are located across the lower 48 States, you get a wide variety of settings for everything. From cities to mountains to forests to lakes to deserts to meteor craters to rain to snow to beaches and on and on, there is a vast array of different types of courses and tracks to enjoy. And there are a wide variety of types of races and events as well. From standard track races to boat races to plane aerobatics to demolition derbies, and so on.\n",
      "The sheer volume of content is quite impressive. And, the various vehicles, be they cars or trucks or bikes or planes or boats or dune buggies or whatever...they all handle nicely and feel good to drive in. Each of these is upgradeable in many ways, which will increase their performance, handling, speed, and just generally make them function better and better as you progress.\n",
      "The Crew 2\n",
      "Une capture d'écran de The Crew 2\n",
      "Par :\n",
      "robilar5500\n",
      "There is a campaign of sorts, where you try to become the lead racer in a few different styles, but it's also easy enough to ignore that in favor of simply racing around, upgrading your vehicles, wandering around your crib, and simply free roaming. And free roaming is a lot of fun in and of itself. Mostly, it's a huge sightseeing trip, where you can also try to beat other player's records with jumps, speed, and so on; that you come across while driving around. And setting some records of your own for other people to beat. And there is a decent photography mini game all across the States where you will take pictures of animals, special vehicles and such to gain more cash and follower.\n",
      "And gaining followers is really the sub goal that most impacts your playthrough. The number of followers you have determines how popular your racer is, which in turn unlocks new vehicle options and race/event options. Just about everything you do will earn you new followers (and cash).\n",
      "Also, you can play with other players and even if you're not, you will see them all over the map. At this moment in time (the time of this review being written), no matter where you are, somebody else is nearby. And there are a lot of player created activities as well. Plus, you can co-op with friends if you get bored of solo play. So really, the content just keeps expanding as you explore what the game has to offer.\n",
      "Visually, the game looks great. It has a 60 FPS cap, which isn't anything to brag about, but somehow, the devs have made the most out of that limitation and made a game that has a never-ending supply of screenshot moments. The audio is also well done. The songs themselves are very cool. The dialogue is basically all \"hey bro\" Extreme Games fodder, but it's fun and definitely appropriate.\n",
      "The Crew 2\n",
      "Une capture d'écran de The Crew 2\n",
      "Par :\n",
      "robilar5500\n",
      "You will need Ubisoft Connect to play this. I don't care at all about that, but you might. And some people are having an issue with the game crashing if they have other non-Steam clients linked to their Ubi account. I have not had that issue personally and have it linked to both PSN and Epic as well, but if you do, you will need to unlink everything except Steam and that will resolve the crashing issue apparently. No idea how or why that is what it is or why it only affects some players. It's been a bug free experience for me though with a 3070 and an i5.\n",
      "Now, should you also buy the season pass? I personally have no intention of doing so. There's no new content, and I don't care about getting a few extra cars and some swag. But the base game, offering what can easily be hundreds and even thousands of hours of content for one dollar. That is something I can definitely get behind. I can't think of a better deal in gaming at this moment. Now, if you miss or skip this one-dollar promotion they have going on right now, value will be more of...you know..., a\n",
      "your mileage may vary\n",
      "type thing....\n",
      "If you found this review helpful and would be interested in supporting my Curator group,\n",
      "Robilar's Reviews\n",
      ", it would be appreciated. Cheers.\n",
      "\n",
      "justice for thecrew!!!!!\n",
      "\n",
      "Ubisoft\n",
      "\n",
      "Bro I'm finna cry like a b!tch when shut this down...\n",
      "\n",
      "great game, but ubisoft will shut this game down in a few years like what they did with tc1.\n",
      "EDIT: they made an offline mode for the crew 2 and motorfest as of 9/10/2024.\n",
      "\n",
      "I DESERVE TO PLAY ALL GAMES WHEN I WANT\n",
      "\n",
      "at 1 euro the game is acceptable.\n",
      "\n",
      "One day ubisoft will shut this game's servers down and it will no longer be playable due to it lacks of offline mode. Do you want proof? Please look at what ubisoft did with The Crew 1. The Crew 1 is no longer playable and ubisoft refuses to release an offline patch for it. Even if The Crew 2 is a good game, I recommend you not to buy until ubisoft release an offline patch and show some respect to players. I don't want this game and crew 1 to disappear into the dark abyss of the online only games. Until ubisoft show some care I give negative review.\n",
      "\n",
      "~ DIFFICULTY ~\n",
      "🔲 My 90 year old grandma could play it\n",
      "🔲 Easy\n",
      "☑️Normal\n",
      "🔲 Hard\n",
      "🔲 Dark Souls\n",
      "~ GRAPHICS ~\n",
      "🔲 MS Paint\n",
      "🔲 Bad\n",
      "🔲 Meh\n",
      "🔲 Graphics dont matter in this game\n",
      "🔲 Good\n",
      "☑️ Beautiful\n",
      "🔲 Masterpiece\n",
      "~ MUSIC ~\n",
      "🔲 Bad\n",
      "☑️ Not special\n",
      "🔲 Good\n",
      "🔲 Beautiful\n",
      "~ STORY ~\n",
      "🔲 This game has no story\n",
      "🔲 Like playing Temple Runners for the story\n",
      "☑️ It's there for the people who want it\n",
      "🔲 Well written\n",
      "🔲 Epic story\n",
      "🔲 Imagine Kingdom Hearts but on crack\n",
      "~ PRICE ~\n",
      "🔲 Free\n",
      "🔲 Underpriced\n",
      "🔲 Perfect Price\n",
      "☑️Could be cheaper\n",
      "🔲 Overpriced\n",
      "🔲 Complete waste of money\n",
      "~ REQUIREMENTS ~\n",
      "🔲 You can run it on a microwave\n",
      "☑️ Average\n",
      "🔲 High end\n",
      "🔲 NASA computer\n",
      "~ LENGTH ~\n",
      "🔲 Very Short (0 - 3 hours)\n",
      "🔲 Short (3 - 15 hours)\n",
      "🔲 Average (15-50 hours)\n",
      "🔲 Long (50-90 hours) for the 100%\n",
      "🔲 Extremely long (90-110 hours)\n",
      "☑️ No ending\n",
      "~ FUN ~\n",
      "🔲 I'd rather watch paint dry\n",
      "🔲 Hard to enjoy\n",
      "🔲 Repetitive\n",
      "☑️ Actually pretty amusing\n",
      "🔲 Ride of your life\n",
      "~ REPLAYABILITY~\n",
      "🔲 It's a one-time experience\n",
      "🔲 Only for achievements\n",
      "🔲 If you wait a few months/years\n",
      "☑️ Definitely\n",
      "🔲 Infinitely replayable\n",
      "~ WORTH BUYING ~\n",
      "🔲 No\n",
      "☑️ Wait for sale\n",
      "🔲 Yes\n",
      "\n",
      "Bought for a dollar figured hey, why not. Started driving, then turned the radio on to come to one of the most wretched abysmal discoveries of my life.\n",
      "Someone without dogshat taste in music is possibly still trapped at Ubisoft. We need to do all we can to rescue this person from their descent to french hell.\n",
      "Which is a lot like normal hell but much more bougie & smelly.\n",
      "\n",
      "Please follow\n",
      "United Critics\n",
      "for quality reviews\n",
      "The Crew 2 Review\n",
      "Factors\n",
      "Rating\n",
      "Description\n",
      "🎮Gameplay\n",
      "8\n",
      "So many vehicle choices that you will love atleast 1-2.\n",
      "📷Graphics\n",
      "7-9.5\n",
      "Hit or a Miss depending upon the track.\n",
      "🎧Narration/Audio\n",
      "9.5\n",
      "Broad soundtrack playlist with good character narrations.\n",
      "😮Variety\n",
      "10\n",
      "Selling factor.\n",
      "🎰Re-playability\n",
      "9\n",
      "Easy to repeat and pretty much endless.\n",
      "💲Price\n",
      "6-9\n",
      "6 on base price and 9 on sale.\n",
      "My impression of the game kept on changing at each progressing 5 hours interval. This review was framed after investing 30+ hours into the game and concluding the final rivalry races. The initial hours were so repulsive and full of meh impressions. But once you get a hold of a particular vehicle type and its handling, it’s all fun and excitement.\n",
      "📝Story/Plot:\n",
      "Just a generic plot setup to give your grind some motive and goal. A rookie entering the world of racing and guess what, some organizers see his potential and gave him a chance without even seeing him race beforehand. Just be #1 all around the events and conclude your journey after beating the top dogs who were the organizers too.\n",
      "🎮Gameplay:\n",
      "Initial impression-\n",
      "Imagine a hot girl with no personality. That’s the first 5-minute impression of The Crew 2. Starting off with high budget cinematics and performing short lap segment races while shifting to a new vehicle again and again. Sounds cool right? Wait until you see the whole f*cking world curve like in the movie Inception and Doctor Strange. At this point, my jaw was indisputably touching the ground. But just after completing a normal event race, it hit me with gloom and awkwardness. All that cinematic brag of “Speed is Life” and bla bla comes down to a slow race with the road looking like a low texture road. Like WTF?\n",
      "Mechanics/Controllability-\n",
      "I know it’s not a real sim racing game, nor advertised as a pure arcade. It’s unique on its own. But I feel like not giving it a category works as a bypass for some faulty mechanics. Cars feel slightly slow and weigh a ton on the controller. The purpose of a racing game is to acknowledge the speed atmosphere, which was only endured with top cars. Cars are not at all hard to control, rather easy and amusing. It’s the damn AI that makes all the races so tryhard. You are in lead for 97% of the race and suddenly an AI got a God’s hand and achieved supersonic speed. If you are thinking of bumping into them and play dirty, well have fun bumping a rubber band. All these aspects are blades of the same sword. AI feels difficult- what a tryhard game/Thank God it’s not cheap easy. Perspective matters here. I am not against it. Surely it’s sometimes annoying, but it iz what it iz.\n",
      "It’s easy to understand how ground vehicles operate, steer, brake, drift, boost. But you are not familiar with aeroplane controls. Despite that, the first intro race makes you race an aeroplane. Instead of crossing checkpoints with my plane, I was crashing into enormous buildings and respawning. A terrible scenario that gets fixed in later event races where they teach you all aeroplane controls bit by bit.\n",
      "Open World-\n",
      "Take on the American motorsports scene as you explore across the entire USA. Being able to drive different vehicles like cars, bikes, boats and planes in the same open-world means not only you are free to drift your car on street roads, tread speedboat through the waterways but fly high across the sky too. Befitting pillars for the open-world statement. Now we know there are no restrictions, but what about interactables? Unfortunately, that’s a guessing game. Oh, I have a sharp turn incoming and I have to drift? Let’s do this then. You are halfway in your drift airmailing all those bus shelters, mailboxes, lampposts in space, but suddenly you see a bench in between. That’s your stoppage. These randomly placed objects like benches or parked cars don’t follow Newton’s Law. They just wanna remain stationary no matter how hard you hit them. Trust me, these little objects ruined a lot of my lap times.\n",
      "Variety-\n",
      "You can use the astonishing top-notch live map, which single-handedly increases the game score by 2. Like how they even made it render the entire game in a 3D model just by a single click. Moving forward, the complete map contains various types of events/races you can take part in. Just for clarification, there are not AI vs races only. You can take part in a race against time, drifting, freestyling and a lot of car chases too. As I said, you are buying a complete package of the racing genre with multiple vehicle types. But there seems to be a hollow part of the story. During cinematics, you can easily see the top-quality work put together and the exciting race descriptions they narrate. But in reality, you won’t find those races in action. One cinematic had an image of a monster truck jumping out of a plane with a parachute, but there’s nothing present like that. They escalated the expectations through cinematic dialogues but disappointed us in the end. It’s not completely devastating as the default variety is already more than enough.\n",
      "PvP/Grinding-\n",
      "Sadly, you can’t run away from the “Look, there’s a level 1 guy with lvl99 car” scenario. It’s Ubisoft, which means expect a lot of transactions. Buy bundles, buy a season pass (Motorpass), or add in-game currency and get any high-speed car you want, but if you don’t wanna spend a penny, good luck grinding your a*s out. Be a part of a crew and evade the boredom of grinding alone.\n",
      "📷Graphics:\n",
      "Enjoy a pizza full of delicious and uplifting toppings added on a half-cooked bread base. Now all your bites will have a random taste. Some will please your tastebuds, and some will taste like cardboard. The object detailing in the open world is great, but their textures, Oh Lord. Never expected to witness those low texture brick buildings from a 2018 game. Like, come on; all the vehicles, roadside objects, even dirt tracks look so good. Then why the buildings and gravel roads look like a dusty mirror. To avoid these bad graphic races, I played air and water races the most.\n",
      "📝Main Pros and ♥♥♥♥:\n",
      "Pros-\n",
      "Big Open-world.\n",
      "Character and vehicle customization.\n",
      "Good chunk of playable time.\n",
      "Multiple vehicle types.\n",
      "Varied races and challenges.\n",
      "Offline or Online races.\n",
      "♥♥♥♥-\n",
      "Grind vs PayToWin is real.\n",
      "Semi cooked graphics.\n",
      "Annoying indestructible objects.\n",
      "No dynamic weather in the open world.\n",
      "🏷️Tips to new players:\n",
      "Keep in mind, you can drift your plane. Without this, you are going to kiss the land whenever you take a flight. Don’t start PvP races until you reach at least the Famous rank. There are no restrictions on which racetrack to follow. So cut the track however you want. The first one to cross the checkpoint is the winner. Change resolution to borderless. Otherwise, whenever you will Alt+Tab, the game will start re-syncing, which wastes 4-10 seconds of your life every time.\n",
      "😇Honest Rating:\n",
      "If you are looking for that NFS arcade or real sim racing like Assetto Corsa and Project Cars, then just buy them instead. It’s nowhere perfect or overly marvellous. But I can assure you, if you invest enough hours into the game, you will adore it even as toxic relation. Only buy on big sale!\n",
      "Rating: 8/10\n",
      "Best world bending I ever saw.\n",
      "\n",
      "Stop Destroying Videogames\n",
      "European Citizens' Initiative :\n",
      "Video games have grown into an industry with billions of customers worth hundreds of billions of euros. During this time, a specific business practice in the industry has been slowly emerging that is not only an assault on basic consumer rights but is destroying the medium itself.\n",
      "An increasing number of publishers are selling video games that are required to connect through the internet to the game publisher, or \"phone home\" to function. While this is not a problem in itself, when support ends for these types of games, very often publishers simply sever the connection necessary for the game to function, proceed to destroy all working copies of the game, and implement extensive measures to prevent the customer from repairing the game in any way.\n",
      "This practice is effectively robbing customers of their purchases and makes restoration impossible. Besides being an affront on consumer rights, video games themselves are unique creative works. Like film, or music, one cannot be simply substituted with another. By destroying them, it represents a creative loss for everyone involved and erases history in ways not possible in other mediums.\n",
      "Existing laws and consumer agencies are ill-prepared to protect customers against this practice. The ability for a company to destroy an item it has already sold to the customer long after the fact is not something that normally occurs in other industries. With license agreements required to simply run the game, many existing consumer protections are circumvented. This practice challenges the concept of ownership itself, where the customer is left with nothing after \"buying\" a game.\n",
      "We wish to invoke Article 17 §1 of the Charter of Fundamental Rights of the European Union [EUR-Lex - 12012P/TXT - EN - EUR-Lex (europa.eu)] – “No one may be deprived of his or her possessions, except in the public interest and in the cases and under the conditions provided for by law, subject to fair compensation being paid in good time for their loss.” – This practice deprives European citizens of their property by making it so that they lose access to their product an indeterminate/arbitrary amount of time after the point of sale. We wish to see this remedied, at the core of this Initiative.\n",
      "We also invoke Title XV of the Treaty on the Functioning of the European Union (TFEU)[EUR-Lex - 12012E/TXT - EN - EUR-Lex (europa.eu)] and the following TFEU Articles as our justification for and the Union’s imperative to respond to this initiative:\n",
      "Article 169 – Per §1, the EU has an obligation “to promote the interests of consumers and to ensure a high level of consumer protection…to protecting the health, safety and economic interests of consumers”. We believe this practice infringes upon or requires correction to be commensurate with the EU’s obligation. The actions taken in response to this initiative must supersede any end user license agreements associated with videogames.\n",
      "Article 12 – “Consumer protection requirements shall be taken into account in defining and implementing other Union policies and activities.” Given that this practice extends across Member States and beyond the EU, the Union’s actions regarding this practice ought to keep consumer protection in mind. The actions taken in response to this initiative must supersede any end user license agreements associated with video games.\n",
      "Article 114, §3 – “The Commission, in its proposals envisaged in paragraph 1 concerning health, safety, environmental protection and consumer protection, will take as a base a high level of protection… Within their respective powers, the European Parliament and the Council will also seek to achieve this objective” This practice undermines the high level of consumer protection that the Commission, the European Parliament, and the Council takes as the basis of law in the Union, and their objectives of establishing and maintaining the functioning of an internal market as described in §1 of this Article, and Article 26 TFEU.\n",
      "THE CREW 2 IS NEXT! SIGN THE PETITION!\n",
      "\n",
      "Fun game, bad driving mechanics, good graphics and very fun.\n",
      "\n",
      "F you Ubisoft for making the Crew 1 unplayable after March 2024...\n",
      "I own the game and should be able to play it no matter what, it should be my property\n",
      "\n",
      "I wish I never bought anything from you bastards. \"Get comfortable with not owning anything\" Why don't you get comfortable with not getting my money anymore. F*cking greedy bastards\n",
      "\n",
      "The Crew 2 is a fairly good game but it's just a matter of time until ubisoft decides to pull the plug on this one, just like they did with the original Crew, If buying is not owning then piracy is not stealing.\n",
      "\n",
      "The Crew 2 doesn't work on the Steam Deck because Ubisoft refuses to support it. They could flip a switch and allow Linux compatibility with the anti-cheat, they just don't want to.\n",
      "Plus we now know that paying for this game does not equal owning the game. Ubisoft owns the game and they will take away your access whenever they feel like it, just like they did with the original.\n",
      "They don't respect Steam Deck customers but that shouldn't be a surprise because they've shown through their actions that they don't respect any of their customers.\n",
      "\n",
      "Many people say that this game is bad, assuming that it is because of the horrible graphics you will always notice. Personally, this is one of the games that I would recommend to give some time to spend on because it is fun and the player has freedom to cruise around and do numerous activities whether you play by yourself or with a built crew.\n",
      "With the ability to switch to another vehicle whether air or water while driving, you get to realize that there are so many things that this game offers. For me, this is an awesome game, though the sole issue I have with this game is that it is only playable ONLINE. I wish there is a feature where in you can drive around and participate in races even without the online feature or just disabled online mode. In addition to the free-roaming, there are races that provide the player a huge drop of cash and with the ability to increase the number of drop of car parts and money by progressing your ICON stats, you are guaranteed wealthy enough to purchase numerous vehicles of different disciplines that are so many that I am speechless of this game and how amazing it is.\n",
      "To conclude. The Crew 2 is fun. Surely some will say the graphic renditions, especially buildings and environments have awful sight to it, but still, with all honesty, this is a fun game to play. If you purchased the Gold Edition, you will receive free, if I am not mistaken, 22 vehicles for free and few exclusive vehicles that you can get for free.\n",
      "\n",
      "on sale for $1, I'll change my recommendation to yes. this has been fun, and if they are giving it an offline mode, even better!\n",
      "EDIT: I've gotten into the game. They can't even troubleshoot their systems much less games, the issue I found came from linked services. the specific one that was causing the issue was the Ubisoft<->Luna link.\n",
      "The issue and how to fix, at one time in history, 5 years ago.\n",
      "https://steamcommunity.com/app/646910/discussions/1/2650881941779181282/\n",
      "Ubisoft even closed their forums, so you can't get BEservice_x64\n",
      "https://discussions.ubisoft.com/\n",
      "\n",
      "Doesn't matter how good this game is if it just gets taken away from you whenever they decide they've taken enough money off of you. As a longtime player of The Crew games and a lover of The Crew 2, do not buy this game. Pirate this $hit instead. Ubisoft CEO said players should be \"comfortable with not owning\" their games. Start by not owning this one.\n",
      "\n",
      "The Crew 2, a game where you can switch from driving a hypercar to piloting a plane faster than you can say \"Did I just clip that skyscraper?\"\n",
      "The game’s map is a condensed version of the USA, which means you can drive from New York to Los Angeles in about 30 minutes. Take that, real-world traffic!\n",
      "Switching between vehicles is as simple as pressing a button. One moment you're cruising down the streets of Miami, and the next, you're free-falling from the sky because you accidentally transformed into a boat mid-air. Pro tip: boats don't fly.\n",
      "The variety of races is vast, and so are the number of trees I've crashed into while attempting to pull off that \"totally planned\" drift. And let's not forget the photo mode challenges. Nothing says \"professional photographer\" like trying to snap a pic of a flamingo while barrel-rolling in a jet.\n",
      "In conclusion, the game is pretty fun, sure the handling physics aren't anything like NFS of Forza, but the game has its charms.\n",
      "\n",
      "I can't express how deeply unsatisfying the non-physics-based driving feels; it's worse than a cheap arcade motorcycle game. Furthermore, online required (see what happened to The Crew 1), terrible, LONG, extremely frequent cut-scenes, very poor UI decisions (I couldn't even figure out how to exit the game!), FPS and resolution limited, a mandatory anti-cheat driver, and mediocre graphics means that there are far better games out there. The only reason I can see to purchase this game is for its boat racing, but even then, it's boring, in my opinion.\n",
      "I don't really understand the positive reviews given how terrible driving feels to be honest.\n",
      "\n",
      "Basically like Forza Horizon series but it's some additional like Nitro, can use plane and boat. It's huge open world map USA (I think).\n",
      "It's REALLY worth it even with CHEAPEST price (A$ 1)\n",
      "\n",
      "car good, publisher bad\n",
      "\n",
      "crew 1 was better, turn the servers back on >:C\n",
      "\n",
      "Can't wait for ubisoft to shut this down like The Crew\n",
      "\n",
      "The Ubisoft app tells me the game will be bound to my account but then says it can't authenticate ownership of the product. And what is the point of buying it on Steam if I have to use a separate launcher to play it! (not that I could even play at all)\n",
      "\n",
      "Here I will leave the cat, whoever pass by can pet it and give it a thumbs up (I need Steam Points)\n",
      "／＞　　フ\n",
      "| 　_　 _ l\n",
      "／` ミ＿xノ\n",
      "/　　　 　 |\n",
      "/　 ヽ　　 ﾉ\n",
      "│　　|　|　|\n",
      "／￣|　　 |　|　|\n",
      "| (￣ヽ＿_ヽ_)__)\n",
      "＼二つ\n",
      "\n",
      "I honestly kind of expected this game to be horrible. But Once I finally got it working, it was a lot more enjoyable then I planned it to be. The main things that strongly irritated me was having to Launch Ubisoft literally anytime I want to play this game, and the fact that Drifting is (not hard but) annoyingly more complex than other racing games.\n",
      "\n",
      "This is better than Motofest. Screw you Ubisoft. Should've just made it as a DLC for this one instead of making it stand-alone.\n",
      "The best Parts of games that play on a larger scale is that they can be expanded with time. Even with paid DLC. Euro Truck Simulator has almost all of Europe. With DLC. Why not looking at the competition?\n",
      "\n",
      "I'd say this game is worth a try. There’s plenty of racing, though it’s kind of like the towers in Assassin’s Creed or Far Cry—you’re constantly grinding for something.\n",
      "About that grind: collecting tuning parts (to get bonuses, you need to put together a full set of the same color and type) can be a hassle. Don’t expect to complete a set easily—you’ll likely be replaying the same race multiple times. There are around 200 races in total, each with three difficulty levels. I’ve cleared 88% of the main races and about 51% of the three other categories, and I’m nowhere near completing a full set on any car. But honestly, you don't need a full set. Once you max out your car’s power, you can just blow past the AI ​​opponents and enjoy the view.\n",
      "And the views here are worth it. The game is gorgeous, and the scale is impressive. You truly feel like you’re driving across an entire country. The map might even be bigger than Euro Truck Simulator's, even with all the DLC. Each state has its own distinct look and vibe, and I loved the variety.\n",
      "The one downside is that the game kind of forces you to try different modes. I wasn’t really into planes or Off-Road, though the boat races were surprisingly fun. Some modes just feel pointless, like Derby. It’s just cars bouncing around with no real destruction physics. And F1 racing doesn’t really fit either—the arcade physics don’t do it justice, and when you’re driving an F1 car off-road, it’s just weird.\n",
      "At first, I hated Off-Road races and was ready to skip them. I tried MX, Aerobatics, and Touring Car instead, but that sense of “incomplete” pushed me to finish those 20 Off-Road races, unlock the boss, and complete all the achievements.\n",
      "Overall, the game’s pretty easy—maybe too easy. To make it more challenging, you’d have to clear everything on the easiest difficulty first, and with a game this big, that can get tiring. I put in 30 hours and only got through half the game. I really enjoyed the hypercars, though; I’d be down for even more long races that last an hour or more. There’s something special about speeding down a wide-open highway, listening to music, and soaking up the graphics.\n",
      "In short, there’s something for everyone here, so I’d say it’s worth a thumbs-up.\n",
      "\n",
      "not Worth my 1$\n",
      "\n",
      "I logged into the game\n",
      "Started the race.\n",
      "5 minutes later I got banned.\n",
      "\n",
      "Definitely worth its price tag of 1$\n",
      "\n",
      "I decided to play this game rather than leave it in the steam library simply because Ubisoft decided to close the server of the crew 1 rather than proving a patch of allowing players to play offline. It's shameful. Back to this, a perfect touring game, a bad game, a terrible racing game. There are too many I can criticise about this game: terrible car selection in the menu, terrible handling and driving feedback, lacking of vehicle trade or hiding, and the worst is demolition derby. However there are many good about this game as well: large map and beautiful landscape, nice weather system and the best is the diversity of vehicles. Overall this game deserves a thumb up, Ubisoft is not. Now I think it's time to bring Vivendi back and put some pressure to Ubi.\n",
      "\n",
      "Middle thumb really, its not bad, but not great either. Graphics weirdly dont look as good as the screenshots, i cant figure out why as i have the game on the highest graphics settings. It does have some nice cars in it, Including all the modern day Lotus cars which was nice to see, however, physics feel okay i guess, nothing special. Impressive size map, and has some really interesting places in it. Story? why bother, If i wanted a story I would read a book from a bestselling author. Gameplay is what I come here for and rate a game on. Overall, I think Forza Horizon series is better, but this is a fair entry to this genre. I've uninstalled it after an hour or 2, just plenty better else about that warrant my time more. Got it for 80p so i guess it even broke even on the £1 an hour i set as valuer for money  haha.\n",
      "\n",
      "Ubisoft is undeniably awful and I hold no love for them, but this ended up possibly being the best dollar I ever spent. I got it originally because the discount was just too much to pass up but didn't expect to enjoy it nearly as much as I have and will continue to do. This title made me realize I love racing games.\n",
      "I don't know how deep any of the activities are compared to the competition in the genre but it's pure good fun. There's lots of variety in event types and tons of vehicles with impressive customization. The drawbacks are that the characters are insufferable, just about every line of dialog is cringe inducing and the voice acting is wretchedly bad — but fortunately none of that matters in a game like this. Maybe that's a plus if you can laugh at it, but for me skipping just about all of it is mandatory.\n",
      "Just turn up the music and drive! Or fly! Or sail.\n",
      "\n",
      "Can't wait for Ubisoft to shut down this game too with no way to play it anymore, at least only 1€ was lost\n",
      "\n",
      "Requires internet access to their servers. People are saying they have switched off the servers for Crew 1 and game no longer playable.\n",
      "\n",
      "Game is good but always online is not fair ubisoft\n",
      "If the ubisoft stops the server of it then we can't play the game\n",
      "Ubisoft should have given a small update to play offline but it doesn't gave it\n",
      "\n",
      "The graphics inside cities are not impressive on a non-rainy day with the sun high in the sky but the beauty of this game becomes evident when the sun gets low or during night. The city looks alive with night lights. In the countryside away from the cities, even at medium graphics, the visual are breathtaking, dawn & dusk produce breathtaking orange colors. When it rains everything looks beautiful.\n",
      "Unfortunately, this game can’t produce stable 60 FPS at medium settings on my GTX 1650, Forza Horizon 5 ran smoothly with just 8 GB of RAM on the same Lenovo Legion Y540. While playing this Crew 2 game, I had upgraded the laptop to 16 GB. I even reduced some graphics settings to low but it still struggled to stay above 50 FPS.\n",
      "The game never crashed, initial loading time is long but afterwards it is very quick. This game to me is on the same level as Forza Horizon but it is superior to FH because of its variety of races, it has theme based races – Racing games from Cartridge era (Flashback races), Ghost hunting van, Tron like bike races, Racing towards Alien landing site, cars and bikes racing together, etc.\n",
      "Humans walking around the street in the city makes this game more ‘realistic’ than Forza Horizon which only shows humans in an enclosure where the car can’t hurt them. But neither of the games have Police no matter  how much destruction your driving causes.\n",
      "This game is too big to be played to completion for someone with a hundred unplayed games in Steam library but at 30 hours I managed to see most of the good stuff. Water & Air based races are not my favourites but the land racing > Street, Hypercars, Rally and Motorcycle were worth the time.\n",
      "\n",
      "I bought this when it was on sale for a dollar.\n",
      "It was not worth that single dollar, and I have requested a refund.\n",
      "\n",
      "Nobody will read this but real discount means -98% 👍\n",
      "\n",
      "Don't buy from Ubisoft. Don't protest with your voice, as they won't listen. Protest with your wallet, and don't let them see a single dime.\n",
      "\n",
      "I hope this server isn't set to expire.\n",
      "\n",
      "Great game but don't feel like playing it anymore since I feel like nothing I do will matter as this game will shut down just like the first Crew title and I'll lose all progress.\n",
      "\n",
      "If you want to play car racing go for FH series please but if you want to play multiple types of vehicle races you can go for that but remember its a UBISOFT game😗.\n",
      "\n",
      "You can tell they are desperate after the recent news of the company stock prices tanking and shareholders wanting the head of the CEO on a plate.\n",
      "I would recommend against giving them even a single buck for this repetitive uninspired grindfest of a game. They got it coming and it's about time they pay for their decisions.\n",
      "Hopefully EA is next.\n",
      "\n",
      "The Crew™ 2 is a very good driving game with cars, planes and boats races, a big map of the USA to explore. You can customise your car with a large choice of equipments. The graphics are nice and the soundtrack is good. I bought this game for only 1€, I recommend it!!! 💛🏎️🖤\n",
      "\n",
      "The Crew 2 to me is a deeply flawed but still a very fun game, with the highs being so high to the extant i considered ranking it among my favorite 3 racing games of all times, that was back when i was just starting out, my opinion kept slowly souring the more i played it, but not enough to make me not consider it still as a\n",
      "good\n",
      "game.\n",
      "Unfortunately, those highs i just mentioned also come with some very deep lows, the lows that snap you into reality & remind you that this is a Ubisoft game after all. The good news is, despite all those flaws it is still very much fun! and is worth it just for the amount of content it has alone, you like classic/hyper cars? motorcycles? perhaps you're here for some rally racing & off-roading instead? how about some boat racing & hovercrafts? planes? no? then surely you like monster trucks! not even that? okay, i know what you can't say no to, demolition derbies!\n",
      "My point is, there is pretty much something for everyone here, and most of it seem to be pretty well made from what i experienced so far. (Yes, 225h in and i only finished like 60% of all the content)\n",
      "i'm not sure on how i want to go on with this review, so i suppose i'll just mention some pros & ♥♥♥♥.\n",
      "The good:\n",
      "+ The graphics are pretty good for a 6 years old game, except for the NPCs, we don't talk about those.\n",
      "+ A huge selection of cars & vehicles from various time periods, you're sure to find something you'll enjoy, the handling was alright for the most part, and most vehicles felt different enough to drive to warrant switching things up from time to time.\n",
      "+ A huge map full of all sorts of races and activities, you'll either love it or hate it, there are like a billion icons on the map for you to clear up, typical Ubisoft stuff, you won't unlock it all at once though. (it was a bit too much for me tbh, especially the billion skills & photos, but it's still content for those who care ig?)\n",
      "+ Some key bindings felt weird on planes & boats but thankfully everything was very customizable with various sliders for everything you could possibly want to adjust, very extensive vehicle tuning too!\n",
      "+ They also added a few unique fun events in almost all disciplines, with special aesthetics & unique soundtracks, some even form their own mini-stories/events, they're a bit on the shorter side though.\n",
      "+ When playing with friends, as long as one of you wins everyone gets the same rewards, big +++\n",
      "+ The game ran almost perfectly for me with rare dips here and there, nothing game-breaking though, i also only experienced 2-3 crashes so far (from what i recall anyways).\n",
      "The Bad:\n",
      "- Cars are way too expensive imo, it felt so jarring coming from Forza Horizon 4 to this, depending on how much you play you could end up spending days saving for a single vehicle, i really hate that & it's one of my biggest gripes with TC2, as i'm someone who likes to experiment with different cars instead of directly buying the meta thing and never looking back. (For context, i'm 225h in and i only have 147 out of 626 vehicles)\n",
      "- No real character creator, you also can't change your avatar once you pick it up so you better choose well!\n",
      "- The servers will randomly disconnect & kick you out without saving your progress, it didn't happen all the time but still enough to be pretty irritating.\n",
      "- Although almost everything can be played with friends, some of the coolest & most unique races are solo only, especially the ones where you switch vehicles mid-race, shame..\n",
      "- The UI is needlessly complicated & annoying, with multiple hidden sub-menus, want to upgrade your loot? haha, good luck figuring it out when you're just starting out.\n",
      "- The game loves to waste your time, every single aspect of it is built around wasting as much of your time as possible, want to play a race? drive/fast travel to it, waste 15 seconds for it to start, waste another 15 seconds going to your spot! now there is a chance you'll be slapped with an un-skippable cutscene depending on the race/event, waste even more seconds waiting for the game to start the countdown, in a game with countless races, and where you're forced to endlessly grind for cars & parts this can easily accumulate to hours or more!\n",
      "Want to check the summit? okay, how about we fast travel you to one of the hubs instead in front of a big monitor, now press enter, wait some more, you're still not in, pick the current summit, press enter again, now you can check the summit, you're welcome! (there are many other examples but i digress)\n",
      "- Gold sets, ah.. where should i even start with this one?, let's say you played enough PVE, and now you want to experience the PVP, let's say you actually want to be competitive & even win sometimes, or maybe you just want to beat some of the PVE races on the hardest difficulty but can't, what you need is gold sets, sets that are pretty much obligatory to even have a chance at end-game content (mainly the Summit), one of those sets doubles your nitro, another doubles your score, not a 1-10% meaningless bonus; double!!\n",
      "Now to get a single set for a singular discipline you'll have to spend 3-8h farming the same type of races on the highest difficulty over & over & over, you're not guaranteed gold pieces ofc, and you could be stuck for hours farming for the last piece you need, now imagine having to do it for 16 different disciplines, endless hours of mindlessly replaying the same 2-3min races over and over until you go insane, okay, it took me 80-90h to finally get all the sets i need but at least the nightmare is finally over, right?\n",
      "Get the duck out of here scrub, what are we? reasonable people? ofc not.\n",
      "Each of the golden parts have 2 other random attributes, want the good ones? you'll have to use in-game currencies to reroll them and hope for the best, the price will go higher each time ofc, you could spend 100k or +10 millions to get the attributes you want, feeling lucky? aight aight you finally did it, you got the attributes you want, but wait! there is moreee! each attribute have a % attached to it, you only got 1% out of 20%, time to spend endless time & currency grinding & trying to max it out! Woohoo!!\n",
      "You don't have to do any of this ofc, but that means you'll never be able to get any the of the exclusive Summit cars, almost no vanities (which are normally only buyable using real cash atm, but you get some once in a while in Summits provided you rank high enough), your choice!😄\n",
      "- You think that was tedious enough? wait till you try stories! they're some unique events(?) with some cool rewards like more exclusive cars & vanities, they basically tell a little story, provide you with a photo & a small description and then ask you to find the location in the photo in the huge US map, then you have to drive to it using a specific type of vehicle (mostly ground vehicles), but you can't fast travel cuz that would make things simple, no no, you'll have to drive! fair enough, found it, it's 75KM away!! woah! alright, i'll spend 15 mins or however long it'll take me to get there, done, checks next step, 95KM away, what the duck? aight, another 10-15mins it is, the 4th location, 45km away, oof, how many more steps i need to finish? what's that? 12 total for a single car story? +1-1.5h if you check YT & 2-3h if you try to do it yourself? how many stories are there? +20? ah, alright, do you get any special narration after each step? a mini cutscene maybe? no? nothing? how about some currency, let's say 1 currency, no? ♥♥♥♥ off then..\n",
      "I just noticed i'm running out of space so this will have to do for now, sorry folks, blame steam.\n",
      "All in all, even with all the terrible parts of TC2 i'd still consider it to be good, one of the better racing games out there, it's 100% worth a try but DO NOT waste your time excessively grinding for anything as it's not worth it in the slightest, just focus on the parts you enjoy & then move on and never look back. 7/10 (but i'm kinda biased since i only paid 0.8$ for it, so maybe a 6? idk)\n",
      "\n",
      "If paying money for a game isn't owning it, then piracy isn't stealing.\n",
      "I wrote this awhile ago.\n",
      "Ubisoft came crawling back to steam.\n",
      "If paying money for a game isn't owning it, then piracy isn't stealing.\n",
      "\n",
      "Good game, shame that is online only, would be great to have a offline patch in the future\n",
      "\n",
      "Por 3 reais que paguei, nem tem o que reclamar.\n",
      "\n",
      "https://www.stopkillinggames.com/\n",
      "\n",
      "Game cannot be launched on SteamDeck due to dependency on Uplay software.\n",
      "\n",
      "It's impossible to give a bad rating to a game you buy at a 98% discount🏷️\n",
      "\n",
      "Was it worth buying this game at a huge discount?\n",
      "The Crew 2 is a sequel to the 2014 racing game. It is, of course, a racing game in which we race mainly with bots, and it's better not to comment on the online mode, because it's not done well, so we either race with bots or with friends in a party. Everything is garnished with a boring storyline, about which there is nothing to write too much, because this is a racing game and it is not very important in it. What sets The Crew 2 apart from other racing games is that in addition to classic cars, we also race other vehicles such as airplanes, boats and monster trucks.\n",
      "Cars and game modes\n",
      "Let's start, perhaps, with just a large selection of different vehicles. As I mentioned in the game, I have a choice of ordinary cars, racing cars, cars for Drag Race, various types of aircraft, boats. All this results in a large number of game modes, where, of course, most consist of beating opponents in a race. However, there are also time trials or demolition derby. On top of that, there are all sorts of tests on the map, which require us to exceed a certain speed or escape to a certain distance. Plus taking pictures, which may not be something particularly interesting, but it's always some additional activity.\n",
      "Gameplay\n",
      "However, the problem arises in the gameplay itself.\n",
      "In The Crew 2 it is impossible to lose.\n",
      "To win a race you just have to drive ahead and not hit the wall, that's all it takes to always arrive in first place or at least in TOP3 (which already gives us finishing the race and counting it towards progression) This makes the game trivial and doesn't challenge us at all, the bots can't beat us if we don't do very big stupid things like driving into buildings at full speed. This game is not a simulator, but it is too simple. On the other hand, we have, for example, flying an airplane, where the very feeling of flying is much more difficult, and sometimes even annoying, but it poses some challenge. This shows that it was possible to create a more difficult game. In general, the feeling of driving depending on the vehicle and game mode is different, but it is no problem to beat every race the first time. The game also lacks proper vehicle physics. For example, in another racing game, Grid 2, after hitting a wall, we were often unable to drive further because our vehicle was useless. And in The Crew 2? We drive on as if nothing ever happened, the car runs and drives even after driving into a wall 300 km/h.\n",
      "It should also be noted that in The Crew 2 we upgrade our car with parts we get after completing a race. Initially, this may seem like an interesting game mechanic, but when combined with the hopeless AI that we are able to beat without developing the car, it becomes meaningless. Even a minimal vehicle upgrade makes the game even simpler, and the bots are unable to catch up with us.\n",
      "Graphics and map\n",
      "The map in The Crew 2 is sizable, but it is not particularly interesting. There are places that look nice and interesting, but it doesn't encourage you to explore and drive from race to race. This also goes for the graphics, which are so-so. Cars and areas outside the city are even nicely done, but already in the city it looks at least poor, the buildings are ugly and there is no pleasure in driving around the city. Again, effects such as water and weather effects are really well done. I'll point out right away that the sound design of the cars is good, and the music itself is so-so, rather nothing special, but nothing annoying either.\n",
      "It is also worth noting that there is an option to create your own paintings, or use the paintings of other users. This is only a cosmetic element, but I think it's worth mentioning, because we are not limited by a few basic paint schemes.\n",
      "And why do random animals pop up in random places on the map, which simply run in front of our hood and we can't even interact with them?\n",
      "Summary\n",
      "The Crew 2 is a game I enjoyed playing at the beginning, when I still didn't quite know what I would encounter later. The longer one plays this title the more one sees all the shortcomings. This game is simply too simple and doesn't offer any challenge, and everything is wrapped up with poor gameplay, lack of vehicle physics, empty grimy world, trivial races, stupid AI. Is it worth buying this game at full price? Of course not. And was it worth buying it at a discount of -98%? Also no, because this game is not worth any money.\n",
      "✔️A large and diverse selection of vehicles\n",
      "✔️Quite a few game modes and activities\n",
      "✔️Challenging aircraft driving model\n",
      "✔️Ability to create custom paint schemes for vehicles\n",
      "✔️❌Graphics (cars, out-of-town areas, weather effects - a plus, cities look awful)\n",
      "✔️❌Sound - sound effects okay, music so-so\n",
      "❌Driving model is trivial\n",
      "❌Stupid AI that is unable to win against us\n",
      "❌Driving physics is non-existent\n",
      "❌Empty map that you don't want to drive on\n",
      "❌Very limited multiplayer mode\n",
      "❌Pointless car upgrades that make it even easier to win races (even though it's trivial anyway)\n",
      "Rating: 4/10\n",
      "●▬▬▬▬▬▬▬▬▬▬▬▬▬▬▬▬▬▬▬▬▬ஜ۩۞۩ஜ▬▬▬▬▬▬▬▬▬▬▬▬▬▬▬▬▬▬●\n",
      "Follow my curator for more reviews\n",
      "●▬▬▬▬▬▬▬▬▬▬▬▬▬▬▬▬▬▬▬▬▬ஜ۩۞۩ஜ▬▬▬▬▬▬▬▬▬▬▬▬▬▬▬▬▬▬●\n",
      "ATTENTION!\n",
      "Please note that this is only my evaluation and opinion of the game. If you do not agree with it or think that the game deserves a higher or lower rating, please leave a comment and I will be happy to respond.\n",
      "\n",
      "~UNPLAYABLE [FIXED] ON STEAM AS OF THE MOST RECENT UPLAY UPDATE.~\n",
      "Trying to save someone the hassle of buying a currently unusable game. Ubisoft had an update on their UPlay platform that causes steam users to crash consistently at the main menu. You'd hope a company like Ubisoft would be on the problem (or just roll back their trash update) but as it stands, it is unacceptable that they're keeping this title listed. I'll fix my review when they fix the game, because I actually enjoyed playing it while I did.\n",
      "Edit: It's fixed, and while I would recommend this game at a killer discount, I, not even joking, got into the trucking simulator games while this game was unplayable; I haven't looked back, and I would recommend them over The Crew 2 at this point.\n",
      "\n",
      "car\n",
      "\n",
      "imma be real ubisoft, this won't make people forget about\n",
      "stopkillinggames.com\n",
      "\n",
      "Because of the 1 dollar price and the legion of fanboys dumping on the game, I expected an absolute slog. Instead I found a fun, well constructed game with a LOT of variety and a huge world to explore. I already use the Ubisoft launcher for Assassin's Creed, so there was no extra setup. It did everything by itself in 2 minutes.\n",
      "\n",
      "I WILL TRADE FREE 0.03$ TO ALL WHO REWARDED THIS REVIEW\n",
      "\n",
      "it uses UPlay so sometimes UDon'tPlay\n",
      "\n",
      "Ubi$oft is desperate for money.\n",
      "Bought this for 1$ just to give a review to warn people about Ubi$oft. They would buy bread with my 1$ to finally have something to eat tonight but too bad\n",
      "i'm taking my precious dollar back.\n",
      "(see end of review)\n",
      "Why is Ubi$oft hated?\n",
      "1. The launcher is ass.\n",
      "2. They've basically stole people's money when they removed The Crew 1 from everyone's library.\n",
      "3. Most of their games simply suck, and then are discontinued and unsupported not a long time after they make sales.\n",
      "4. They steal people out of their money. Removing games from people's libraries, only giving half refunds after you ask for them and completely ♥♥♥♥♥♥♥♥ on games they've recently released is just a little bit of what a normal day looks at Ubi$oft.\n",
      "Why is Ubi$oft still around?\n",
      "Ubi$oft investors saw their numbers go down, so what a better way to make sales than to sell the game for 1$? All they care about is to make sales, not have a fanbase. Their investors will still invest and Ubi$oft will keep releasing easy money grabs instead of actual games. Greedy corporation. I could spend an entire week talking about their shady tactics, a friend for example has made the bad decision to buy a Ubi$oft subscription for 18€, when he asked for a refund two hours later he only got 14€, with absolutely NO explanation on why this was the case. The CEO got himself a burger to eat from the 4€ stolen, congrats.\n",
      "My final thoughts\n",
      "STAY AWAY FROM UBI$OFT.\n",
      "There are simply way better games around with developers and companies that actually care about their games. These guys don't have bad ratings without a reason.\n",
      "$\n",
      "Oh, and i'm taking my dollar back. Don't you think i forgot that. I promised i will do it when i began my review and i am a person of my word.\n",
      "Update: I guess Ubi$oft got themselves a bread with my money already, damn they were hungry and greedy!\n",
      "(steam response:\n",
      "\"We will not be granting a refund because you already have a large number of recent refunds. Please remember that refunds are not a method for trying out games.\"\n",
      ")\n",
      "\n",
      "♥♥♥♥ company that removes access to games after Few Week.\n",
      "\n",
      "At least Alt F4 works in this game\n",
      "\n",
      "if buying isn't owning piracy isn't stealing\n",
      "\n",
      "Not a good idea to buy a game from a company that is willing to completely cut off access to their games whenever they feel like it. @Ubisoft\n",
      "\n",
      "Might as well play it while I can.\n",
      "\n",
      "You know they are going to do to this game what they did to the first Crew. You can't trust Ubisoft. Absolute joke of a company.\n",
      "\n",
      "What I like about this game is that I can cruise all over the United States using 3 types of vehicles and I don't care about the racing. The missions in the stories are also very unique but unfortunately they are all the same type, just looking for locations from the map. Lastly, the thing I really hate is Ubisoft Launcher!\n",
      "\n",
      "Ubisoft will kill this game soon.\n",
      "Don't buy it !!\n",
      "\n",
      "Don't buy unless you're OK with them taking away your purchase a few years down the road.\n",
      "\n",
      "You know your reputation is in some deep 💩 when you basically start giving away games.\n",
      "\n",
      "The game is pretty fun but Ubisoft will probably close the server any day now, be wary.\n",
      "\n",
      "If buying isn't owning, piracy isn't stealing\n",
      "\n",
      "you become a racist and all you have to do is become the best racist out of all\n",
      "\n",
      "Ubisoft revoking licenses for The Crew, preventing owners who paid for the game from installing it.\n",
      "Nuff said\n",
      "\n",
      "Update: I refunded this game—not because I needed my $4 back, but out of sheer frustration. Ubisoft doesn’t deserve it for what felt like an unnecessarily painful experience.\n",
      "I grabbed The Crew 2 for a dollar, thinking it would be a fun, low-stakes game to enjoy with my kids. Expectations were low because, well, $1. But even with the bar set that low, this game somehow managed to underdeliver. What we thought would be a quick, fun multiplayer session turned into a confusing, frustrating mess that left us baffled.\n",
      "Here’s the thing—we never even got to the multiplayer. Between the absurdly confusing menus and being forced through tutorial missions that drag on and on, we couldn’t even figure out how to set up a basic multiplayer session. It makes no sense. After nearly an hour of trying to navigate through the cluttered, poorly designed menus, we gave up. And believe me, I’ve had waterboarding training that was less torture than this.\n",
      "Ubisoft still has the audacity to charge $49.99 for this game. That's $50 for a product that can’t even guide players through its most basic functions. They even have the nerve to offer Special and Gold editions at $59.99 and $89.99, but I can't for the life of me figure out what you're actually paying for with those.\n",
      "The driving mechanics are another headache. The cars handle like oversized bouncy balls, with physics that are laughably bad for a driving game. Every attempt to enjoy the driving experience feels like a fight with the controls. To add insult to injury, there’s a 60 FPS lock, which feels outdated and unnecessary, especially when better performance is standard in so many other games.\n",
      "And then there’s the world itself. It’s big, sure—but it’s empty, bland, and devoid of any meaningful interaction. Ubisoft built a massive map but forgot to fill it with anything interesting or engaging. It feels like a missed opportunity on every level.\n",
      "The worst part is, this game pushes microtransactions like they’re doing you a favor. Even after charging $50, they still try to squeeze more money out of players. If you want to progress faster or get better vehicles, guess what? You’re expected to pay more. It’s clearly designed to milk every penny out of players rather than delivering a solid experience upfront.\n",
      "In the end, this game feels unfinished and outdated. Ubisoft should be embarrassed to still sell this at full price. I’m writing this not for me—I’ve already refunded it—but as a warning to anyone thinking of buying it. Save your money and your time, even if it’s on sale for $1.\n",
      "There’s no justifying the current price tag, and Ubisoft should seriously reconsider what they’re asking people to pay for this incomplete experience.\n",
      "\n",
      "I like the game. But person who made UI for it is a psychopath.\n",
      "Plane control - most unusual choice of buttons. Had to go to control mapping to understand where are they. Only thing that I understood was that I have to be an octopus to control it properly. Remapped instantly.\n",
      "If you have second monitor your mouse will constatly go offscreen. Even if mouse is hidden and controls camera rotation in fullscreen mode. Even junior developer don't do this mistake, it was made on purpose.\n",
      "When mouse goes out of the screen game is collapsed for some reason, I don't even click anything (there is windows default hover panel though).\n",
      "When you go back from the collapsed state - you see a slideshow of some frames from random places during your game session. And it collapses again, just because...\n",
      "When you go back from the collapsed state second time - game teleports you forward on your track. I was supposed to miss a bridge. When it collapsed I was approaching to it. Somehow I appeared to be in the middle of it.\n",
      "Menu just goes nowhere. It is the most useless menu in history. At least there are hotkeys for map. Also, there is no quit button. This is the most insane thing I have ever seen. Apparantly it is supposed to be a career gameplay menu, not a game menu. Button that resumes the game called \"Quit\". So when you press it, you just resume the game. Which means that is part of gameplay, not part of game control. But there are settings and other staff, that is not a part of a gameplay menu.\n",
      "Now surprise - there is a game menu. It's on button \"B\", where you can quit game. Not F10, Esc, P, not inside the gameplay menu. It is a separate menu that allows almost nothing except quitting the game.\n",
      "I don't even touch gameplay menus, they are very hard to understand from the start.\n",
      "Person who was designing UI apparently doesn't know there is also UX.\n",
      "I don't recommed buying the game mostly because people who made it didn't care about your convinience playing this game. They wanted only to have one more franchise where your can spend money inside the game. You don't buy the game, you buy ability to buy more stuff.\n",
      "I bought it long ago only because I have almost zero racing games in my collection and sometimes I want to ride cars/motorcycles. And each time I install GTA5 for it. Wanted to have some legit racing game. It is not that bad, but there are better games than this one. I will try to play with a controller, hope it will not go offscreen -_-\n",
      "This is the first game I wrote negative review after only 1 hour of playing.\n",
      "To Ubisoft: Have a shame and at least hire people with brains, I paid money for it.\n",
      "\n",
      "I hate Uplay\n",
      "Decided to refund even if its ₹50 I think this game doesn't deserve my money as the game has very poor drifting mechanism. This is game is purely racing oriented still it lack this very basic thing. Even GTA5 has best car driving mechanism. I can drift so damn smoothly in GTA5. I have played car racing games before and this game is exceptional which uses no RT, DLSS and locked to 60 FPS. Its a racing game not a fighting game.\n",
      "\n",
      "Yar har fiddle de de\n",
      "Being a pirate is alright with me\n",
      "\n",
      "So..you gonna take this game from me in 2028 like you did with The Crew 1, right Ubisoft? In this case I wont buy any single game from you anymore from now on. Enjoy yourself you greedy mfs\n",
      "\n",
      "ubisoft go declare bankrupty. not like your stock says it already\n",
      "\n",
      "Once the servers go down in the future you won't be able to play the game YOU PAYED FOR. If buying is not owning, piracy is not stealing!\n",
      "\n",
      "If buying isn't owning, piracy isn't stealing\n",
      "\n",
      "justice for crew 1 !\n",
      "\n",
      "If buying is not owning, piracy is not stealing\n",
      "\n",
      "It is actually shockingly bad. Barely even playable and inferior in many ways to racing games from 25 years ago. I cannot believe anyone organically gave this a positive review unless there was some horrible game breaking update since that time. I paid $1 and it was $1 too much. I wouldn't play it for free.\n",
      "\n",
      "Here I will leave the cat,\n",
      "friends who pass by can pet it and give it a thumbs up and awards\n",
      "／＞　　フ\n",
      "| 　_　 _ l\n",
      "／` ミ＿xノ\n",
      "/　　　 　 |\n",
      "/　 ヽ　　 ﾉ\n",
      "│　　|　|　|\n",
      "／￣|　　 |　|　|\n",
      "| (￣ヽ＿_ヽ_)__)\n",
      "＼二つ\n",
      "\n",
      "98% off is still not worth it.\n",
      "Reminder: The Crew has a full single player campaign that Ubisoft no longer lets you play, because they say so.\n",
      "I'm not playing The Crew 2 so you can do that again in a few years. You don't even get to keep my $1, Ubisoft.\n",
      "Absolutely unacceptable.\n",
      "\n"
     ]
    }
   ],
   "source": [
    "liste_review = []\n",
    "for review in reviews :    \n",
    "    for elt_a_suppr in review.find_all(['div'], class_=[\"date_posted\", \"received_compensation\", \"refunded\"]):\n",
    "        elt_a_suppr.decompose()\n",
    "    \n",
    "    review = review.get_text(strip=True, separator = \"\\n\")\n",
    "\n",
    "    liste_review.append(review)\n",
    "    print(review, end = \"\\n\\n\")"
   ]
  },
  {
   "cell_type": "code",
   "execution_count": null,
   "metadata": {},
   "outputs": [],
   "source": []
  },
  {
   "cell_type": "code",
   "execution_count": null,
   "metadata": {},
   "outputs": [],
   "source": []
  },
  {
   "cell_type": "code",
   "execution_count": null,
   "metadata": {},
   "outputs": [],
   "source": []
  },
  {
   "cell_type": "code",
   "execution_count": null,
   "metadata": {},
   "outputs": [],
   "source": []
  },
  {
   "cell_type": "code",
   "execution_count": null,
   "metadata": {},
   "outputs": [],
   "source": []
  }
 ],
 "metadata": {
  "kernelspec": {
   "display_name": "env",
   "language": "python",
   "name": "python3"
  },
  "language_info": {
   "codemirror_mode": {
    "name": "ipython",
    "version": 3
   },
   "file_extension": ".py",
   "mimetype": "text/x-python",
   "name": "python",
   "nbconvert_exporter": "python",
   "pygments_lexer": "ipython3",
   "version": "3.12.6"
  }
 },
 "nbformat": 4,
 "nbformat_minor": 2
}
